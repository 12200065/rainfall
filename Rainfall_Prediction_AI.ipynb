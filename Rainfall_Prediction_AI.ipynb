{
 "cells": [
  {
   "cell_type": "markdown",
   "id": "c0b8d4d1",
   "metadata": {},
   "source": [
    "### Importing Library"
   ]
  },
  {
   "cell_type": "code",
   "execution_count": 1,
   "id": "d1b607f1",
   "metadata": {},
   "outputs": [],
   "source": [
    "import pandas as pd\n",
    "import numpy as np\n",
    "import seaborn as sns\n",
    "from sklearn import preprocessing\n",
    "from sklearn.metrics import r2_score\n",
    "from sklearn.metrics import mean_squared_error\n",
    "from sklearn.linear_model import LinearRegression\n",
    "from sklearn.model_selection import train_test_split\n",
    "import matplotlib.pyplot as plt\n",
    "from sklearn.preprocessing import MinMaxScaler\n",
    "from sklearn.pipeline import Pipeline\n",
    "from sklearn.model_selection import train_test_split\n",
    "import warnings\n",
    "warnings.filterwarnings('ignore')"
   ]
  },
  {
   "cell_type": "markdown",
   "id": "2d7cfd9a",
   "metadata": {},
   "source": [
    "#### Read Data"
   ]
  },
  {
   "cell_type": "code",
   "execution_count": 2,
   "id": "2a92e09f",
   "metadata": {},
   "outputs": [],
   "source": [
    "df = pd.read_csv('rainfall.csv')"
   ]
  },
  {
   "cell_type": "code",
   "execution_count": 3,
   "id": "24df4eac",
   "metadata": {},
   "outputs": [
    {
     "data": {
      "text/html": [
       "<div>\n",
       "<style scoped>\n",
       "    .dataframe tbody tr th:only-of-type {\n",
       "        vertical-align: middle;\n",
       "    }\n",
       "\n",
       "    .dataframe tbody tr th {\n",
       "        vertical-align: top;\n",
       "    }\n",
       "\n",
       "    .dataframe thead th {\n",
       "        text-align: right;\n",
       "    }\n",
       "</style>\n",
       "<table border=\"1\" class=\"dataframe\">\n",
       "  <thead>\n",
       "    <tr style=\"text-align: right;\">\n",
       "      <th></th>\n",
       "      <th>location</th>\n",
       "      <th>Year</th>\n",
       "      <th>Month</th>\n",
       "      <th>Tmax</th>\n",
       "      <th>Tmin</th>\n",
       "      <th>RH</th>\n",
       "      <th>Wind Speed</th>\n",
       "      <th>Rainfall</th>\n",
       "    </tr>\n",
       "  </thead>\n",
       "  <tbody>\n",
       "    <tr>\n",
       "      <th>0</th>\n",
       "      <td>Paro</td>\n",
       "      <td>2000</td>\n",
       "      <td>1</td>\n",
       "      <td>9.500000</td>\n",
       "      <td>-0.400000</td>\n",
       "      <td>65.000000</td>\n",
       "      <td>0.260000</td>\n",
       "      <td>0.0</td>\n",
       "    </tr>\n",
       "    <tr>\n",
       "      <th>1</th>\n",
       "      <td>Paro</td>\n",
       "      <td>2000</td>\n",
       "      <td>2</td>\n",
       "      <td>10.600000</td>\n",
       "      <td>2.000000</td>\n",
       "      <td>65.000000</td>\n",
       "      <td>0.520000</td>\n",
       "      <td>0.0</td>\n",
       "    </tr>\n",
       "    <tr>\n",
       "      <th>2</th>\n",
       "      <td>Paro</td>\n",
       "      <td>2000</td>\n",
       "      <td>3</td>\n",
       "      <td>14.500000</td>\n",
       "      <td>4.000000</td>\n",
       "      <td>69.000000</td>\n",
       "      <td>0.520000</td>\n",
       "      <td>11.0</td>\n",
       "    </tr>\n",
       "    <tr>\n",
       "      <th>3</th>\n",
       "      <td>Paro</td>\n",
       "      <td>2000</td>\n",
       "      <td>4</td>\n",
       "      <td>19.600000</td>\n",
       "      <td>8.700000</td>\n",
       "      <td>77.000000</td>\n",
       "      <td>0.420000</td>\n",
       "      <td>23.4</td>\n",
       "    </tr>\n",
       "    <tr>\n",
       "      <th>4</th>\n",
       "      <td>Paro</td>\n",
       "      <td>2000</td>\n",
       "      <td>5</td>\n",
       "      <td>22.500000</td>\n",
       "      <td>10.200000</td>\n",
       "      <td>77.000000</td>\n",
       "      <td>0.240000</td>\n",
       "      <td>98.4</td>\n",
       "    </tr>\n",
       "    <tr>\n",
       "      <th>...</th>\n",
       "      <td>...</td>\n",
       "      <td>...</td>\n",
       "      <td>...</td>\n",
       "      <td>...</td>\n",
       "      <td>...</td>\n",
       "      <td>...</td>\n",
       "      <td>...</td>\n",
       "      <td>...</td>\n",
       "    </tr>\n",
       "    <tr>\n",
       "      <th>2634</th>\n",
       "      <td>Tashiyangtse</td>\n",
       "      <td>2021</td>\n",
       "      <td>8</td>\n",
       "      <td>25.306452</td>\n",
       "      <td>19.322581</td>\n",
       "      <td>86.129032</td>\n",
       "      <td>0.283226</td>\n",
       "      <td>192.3</td>\n",
       "    </tr>\n",
       "    <tr>\n",
       "      <th>2635</th>\n",
       "      <td>Tashiyangtse</td>\n",
       "      <td>2021</td>\n",
       "      <td>9</td>\n",
       "      <td>27.500000</td>\n",
       "      <td>16.816667</td>\n",
       "      <td>78.966667</td>\n",
       "      <td>0.283000</td>\n",
       "      <td>139.8</td>\n",
       "    </tr>\n",
       "    <tr>\n",
       "      <th>2636</th>\n",
       "      <td>Tashiyangtse</td>\n",
       "      <td>2021</td>\n",
       "      <td>10</td>\n",
       "      <td>24.951613</td>\n",
       "      <td>12.790323</td>\n",
       "      <td>78.838710</td>\n",
       "      <td>0.286129</td>\n",
       "      <td>94.6</td>\n",
       "    </tr>\n",
       "    <tr>\n",
       "      <th>2637</th>\n",
       "      <td>Tashiyangtse</td>\n",
       "      <td>2021</td>\n",
       "      <td>11</td>\n",
       "      <td>20.050000</td>\n",
       "      <td>6.266667</td>\n",
       "      <td>75.666667</td>\n",
       "      <td>0.328333</td>\n",
       "      <td>9.0</td>\n",
       "    </tr>\n",
       "    <tr>\n",
       "      <th>2638</th>\n",
       "      <td>Tashiyangtse</td>\n",
       "      <td>2021</td>\n",
       "      <td>12</td>\n",
       "      <td>16.854839</td>\n",
       "      <td>1.935484</td>\n",
       "      <td>74.483871</td>\n",
       "      <td>0.321290</td>\n",
       "      <td>21.0</td>\n",
       "    </tr>\n",
       "  </tbody>\n",
       "</table>\n",
       "<p>2639 rows × 8 columns</p>\n",
       "</div>"
      ],
      "text/plain": [
       "          location  Year  Month       Tmax       Tmin         RH  Wind Speed  \\\n",
       "0             Paro  2000      1   9.500000  -0.400000  65.000000    0.260000   \n",
       "1             Paro  2000      2  10.600000   2.000000  65.000000    0.520000   \n",
       "2             Paro  2000      3  14.500000   4.000000  69.000000    0.520000   \n",
       "3             Paro  2000      4  19.600000   8.700000  77.000000    0.420000   \n",
       "4             Paro  2000      5  22.500000  10.200000  77.000000    0.240000   \n",
       "...            ...   ...    ...        ...        ...        ...         ...   \n",
       "2634  Tashiyangtse  2021      8  25.306452  19.322581  86.129032    0.283226   \n",
       "2635  Tashiyangtse  2021      9  27.500000  16.816667  78.966667    0.283000   \n",
       "2636  Tashiyangtse  2021     10  24.951613  12.790323  78.838710    0.286129   \n",
       "2637  Tashiyangtse  2021     11  20.050000   6.266667  75.666667    0.328333   \n",
       "2638  Tashiyangtse  2021     12  16.854839   1.935484  74.483871    0.321290   \n",
       "\n",
       "      Rainfall  \n",
       "0          0.0  \n",
       "1          0.0  \n",
       "2         11.0  \n",
       "3         23.4  \n",
       "4         98.4  \n",
       "...        ...  \n",
       "2634     192.3  \n",
       "2635     139.8  \n",
       "2636      94.6  \n",
       "2637       9.0  \n",
       "2638      21.0  \n",
       "\n",
       "[2639 rows x 8 columns]"
      ]
     },
     "execution_count": 3,
     "metadata": {},
     "output_type": "execute_result"
    },
    {
     "data": {
      "text/html": [
       "<div>\n",
       "<style scoped>\n",
       "    .dataframe tbody tr th:only-of-type {\n",
       "        vertical-align: middle;\n",
       "    }\n",
       "\n",
       "    .dataframe tbody tr th {\n",
       "        vertical-align: top;\n",
       "    }\n",
       "\n",
       "    .dataframe thead th {\n",
       "        text-align: right;\n",
       "    }\n",
       "</style>\n",
       "<table border=\"1\" class=\"dataframe\">\n",
       "  <thead>\n",
       "    <tr style=\"text-align: right;\">\n",
       "      <th></th>\n",
       "      <th>location</th>\n",
       "      <th>Year</th>\n",
       "      <th>Month</th>\n",
       "      <th>Tmax</th>\n",
       "      <th>Tmin</th>\n",
       "      <th>RH</th>\n",
       "      <th>Wind Speed</th>\n",
       "      <th>Rainfall</th>\n",
       "    </tr>\n",
       "  </thead>\n",
       "  <tbody>\n",
       "    <tr>\n",
       "      <th>0</th>\n",
       "      <td>Paro</td>\n",
       "      <td>2000</td>\n",
       "      <td>1</td>\n",
       "      <td>9.500000</td>\n",
       "      <td>-0.400000</td>\n",
       "      <td>65.000000</td>\n",
       "      <td>0.260000</td>\n",
       "      <td>0.0</td>\n",
       "    </tr>\n",
       "    <tr>\n",
       "      <th>1</th>\n",
       "      <td>Paro</td>\n",
       "      <td>2000</td>\n",
       "      <td>2</td>\n",
       "      <td>10.600000</td>\n",
       "      <td>2.000000</td>\n",
       "      <td>65.000000</td>\n",
       "      <td>0.520000</td>\n",
       "      <td>0.0</td>\n",
       "    </tr>\n",
       "    <tr>\n",
       "      <th>2</th>\n",
       "      <td>Paro</td>\n",
       "      <td>2000</td>\n",
       "      <td>3</td>\n",
       "      <td>14.500000</td>\n",
       "      <td>4.000000</td>\n",
       "      <td>69.000000</td>\n",
       "      <td>0.520000</td>\n",
       "      <td>11.0</td>\n",
       "    </tr>\n",
       "    <tr>\n",
       "      <th>3</th>\n",
       "      <td>Paro</td>\n",
       "      <td>2000</td>\n",
       "      <td>4</td>\n",
       "      <td>19.600000</td>\n",
       "      <td>8.700000</td>\n",
       "      <td>77.000000</td>\n",
       "      <td>0.420000</td>\n",
       "      <td>23.4</td>\n",
       "    </tr>\n",
       "    <tr>\n",
       "      <th>4</th>\n",
       "      <td>Paro</td>\n",
       "      <td>2000</td>\n",
       "      <td>5</td>\n",
       "      <td>22.500000</td>\n",
       "      <td>10.200000</td>\n",
       "      <td>77.000000</td>\n",
       "      <td>0.240000</td>\n",
       "      <td>98.4</td>\n",
       "    </tr>\n",
       "    <tr>\n",
       "      <th>...</th>\n",
       "      <td>...</td>\n",
       "      <td>...</td>\n",
       "      <td>...</td>\n",
       "      <td>...</td>\n",
       "      <td>...</td>\n",
       "      <td>...</td>\n",
       "      <td>...</td>\n",
       "      <td>...</td>\n",
       "    </tr>\n",
       "    <tr>\n",
       "      <th>2634</th>\n",
       "      <td>Tashiyangtse</td>\n",
       "      <td>2021</td>\n",
       "      <td>8</td>\n",
       "      <td>25.306452</td>\n",
       "      <td>19.322581</td>\n",
       "      <td>86.129032</td>\n",
       "      <td>0.283226</td>\n",
       "      <td>192.3</td>\n",
       "    </tr>\n",
       "    <tr>\n",
       "      <th>2635</th>\n",
       "      <td>Tashiyangtse</td>\n",
       "      <td>2021</td>\n",
       "      <td>9</td>\n",
       "      <td>27.500000</td>\n",
       "      <td>16.816667</td>\n",
       "      <td>78.966667</td>\n",
       "      <td>0.283000</td>\n",
       "      <td>139.8</td>\n",
       "    </tr>\n",
       "    <tr>\n",
       "      <th>2636</th>\n",
       "      <td>Tashiyangtse</td>\n",
       "      <td>2021</td>\n",
       "      <td>10</td>\n",
       "      <td>24.951613</td>\n",
       "      <td>12.790323</td>\n",
       "      <td>78.838710</td>\n",
       "      <td>0.286129</td>\n",
       "      <td>94.6</td>\n",
       "    </tr>\n",
       "    <tr>\n",
       "      <th>2637</th>\n",
       "      <td>Tashiyangtse</td>\n",
       "      <td>2021</td>\n",
       "      <td>11</td>\n",
       "      <td>20.050000</td>\n",
       "      <td>6.266667</td>\n",
       "      <td>75.666667</td>\n",
       "      <td>0.328333</td>\n",
       "      <td>9.0</td>\n",
       "    </tr>\n",
       "    <tr>\n",
       "      <th>2638</th>\n",
       "      <td>Tashiyangtse</td>\n",
       "      <td>2021</td>\n",
       "      <td>12</td>\n",
       "      <td>16.854839</td>\n",
       "      <td>1.935484</td>\n",
       "      <td>74.483871</td>\n",
       "      <td>0.321290</td>\n",
       "      <td>21.0</td>\n",
       "    </tr>\n",
       "  </tbody>\n",
       "</table>\n",
       "<p>2639 rows × 8 columns</p>\n",
       "</div>"
      ],
      "text/plain": [
       "          location  Year  Month       Tmax       Tmin         RH  Wind Speed  \\\n",
       "0             Paro  2000      1   9.500000  -0.400000  65.000000    0.260000   \n",
       "1             Paro  2000      2  10.600000   2.000000  65.000000    0.520000   \n",
       "2             Paro  2000      3  14.500000   4.000000  69.000000    0.520000   \n",
       "3             Paro  2000      4  19.600000   8.700000  77.000000    0.420000   \n",
       "4             Paro  2000      5  22.500000  10.200000  77.000000    0.240000   \n",
       "...            ...   ...    ...        ...        ...        ...         ...   \n",
       "2634  Tashiyangtse  2021      8  25.306452  19.322581  86.129032    0.283226   \n",
       "2635  Tashiyangtse  2021      9  27.500000  16.816667  78.966667    0.283000   \n",
       "2636  Tashiyangtse  2021     10  24.951613  12.790323  78.838710    0.286129   \n",
       "2637  Tashiyangtse  2021     11  20.050000   6.266667  75.666667    0.328333   \n",
       "2638  Tashiyangtse  2021     12  16.854839   1.935484  74.483871    0.321290   \n",
       "\n",
       "      Rainfall  \n",
       "0          0.0  \n",
       "1          0.0  \n",
       "2         11.0  \n",
       "3         23.4  \n",
       "4         98.4  \n",
       "...        ...  \n",
       "2634     192.3  \n",
       "2635     139.8  \n",
       "2636      94.6  \n",
       "2637       9.0  \n",
       "2638      21.0  \n",
       "\n",
       "[2639 rows x 8 columns]"
      ]
     },
     "execution_count": 3,
     "metadata": {},
     "output_type": "execute_result"
    }
   ],
   "source": [
    "df "
   ]
  },
  {
   "cell_type": "markdown",
   "id": "d1b31bc3",
   "metadata": {},
   "source": [
    "#### Explore Data"
   ]
  },
  {
   "cell_type": "code",
   "execution_count": 4,
   "id": "cea9f593",
   "metadata": {},
   "outputs": [
    {
     "data": {
      "text/plain": [
       "(2639, 8)"
      ]
     },
     "execution_count": 4,
     "metadata": {},
     "output_type": "execute_result"
    },
    {
     "data": {
      "text/plain": [
       "(2639, 8)"
      ]
     },
     "execution_count": 4,
     "metadata": {},
     "output_type": "execute_result"
    }
   ],
   "source": [
    "df.shape"
   ]
  },
  {
   "cell_type": "code",
   "execution_count": 5,
   "id": "1de9e052",
   "metadata": {},
   "outputs": [
    {
     "data": {
      "text/plain": [
       "Index(['location', 'Year', 'Month', 'Tmax', 'Tmin', 'RH', 'Wind Speed',\n",
       "       'Rainfall'],\n",
       "      dtype='object')"
      ]
     },
     "execution_count": 5,
     "metadata": {},
     "output_type": "execute_result"
    },
    {
     "data": {
      "text/plain": [
       "Index(['location', 'Year', 'Month', 'Tmax', 'Tmin', 'RH', 'Wind Speed',\n",
       "       'Rainfall'],\n",
       "      dtype='object')"
      ]
     },
     "execution_count": 5,
     "metadata": {},
     "output_type": "execute_result"
    }
   ],
   "source": [
    "df.columns"
   ]
  },
  {
   "cell_type": "code",
   "execution_count": 6,
   "id": "dc5c066b",
   "metadata": {},
   "outputs": [
    {
     "data": {
      "text/plain": [
       "location       object\n",
       "Year            int64\n",
       "Month           int64\n",
       "Tmax          float64\n",
       "Tmin          float64\n",
       "RH            float64\n",
       "Wind Speed    float64\n",
       "Rainfall      float64\n",
       "dtype: object"
      ]
     },
     "execution_count": 6,
     "metadata": {},
     "output_type": "execute_result"
    },
    {
     "data": {
      "text/plain": [
       "location       object\n",
       "Year            int64\n",
       "Month           int64\n",
       "Tmax          float64\n",
       "Tmin          float64\n",
       "RH            float64\n",
       "Wind Speed    float64\n",
       "Rainfall      float64\n",
       "dtype: object"
      ]
     },
     "execution_count": 6,
     "metadata": {},
     "output_type": "execute_result"
    }
   ],
   "source": [
    "df.dtypes"
   ]
  },
  {
   "cell_type": "code",
   "execution_count": 7,
   "id": "9f479a45",
   "metadata": {},
   "outputs": [
    {
     "data": {
      "text/plain": [
       "location      2639\n",
       "Year          2639\n",
       "Month         2639\n",
       "Tmax          2638\n",
       "Tmin          2638\n",
       "RH            2637\n",
       "Wind Speed    2632\n",
       "Rainfall      2638\n",
       "dtype: int64"
      ]
     },
     "execution_count": 7,
     "metadata": {},
     "output_type": "execute_result"
    },
    {
     "data": {
      "text/plain": [
       "location      2639\n",
       "Year          2639\n",
       "Month         2639\n",
       "Tmax          2638\n",
       "Tmin          2638\n",
       "RH            2637\n",
       "Wind Speed    2632\n",
       "Rainfall      2638\n",
       "dtype: int64"
      ]
     },
     "execution_count": 7,
     "metadata": {},
     "output_type": "execute_result"
    }
   ],
   "source": [
    "df.count()"
   ]
  },
  {
   "cell_type": "code",
   "execution_count": 8,
   "id": "70e76fa6",
   "metadata": {},
   "outputs": [],
   "source": [
    "df.rename(columns={'Wind Speed':'WindSpeed'},inplace=True)"
   ]
  },
  {
   "cell_type": "markdown",
   "id": "2061eda4",
   "metadata": {},
   "source": [
    "####  Handling Missing Value"
   ]
  },
  {
   "cell_type": "code",
   "execution_count": 9,
   "id": "11417a64",
   "metadata": {},
   "outputs": [
    {
     "data": {
      "text/plain": [
       "location     0\n",
       "Year         0\n",
       "Month        0\n",
       "Tmax         1\n",
       "Tmin         1\n",
       "RH           2\n",
       "WindSpeed    7\n",
       "Rainfall     1\n",
       "dtype: int64"
      ]
     },
     "execution_count": 9,
     "metadata": {},
     "output_type": "execute_result"
    },
    {
     "data": {
      "text/plain": [
       "location     0\n",
       "Year         0\n",
       "Month        0\n",
       "Tmax         1\n",
       "Tmin         1\n",
       "RH           2\n",
       "WindSpeed    7\n",
       "Rainfall     1\n",
       "dtype: int64"
      ]
     },
     "execution_count": 9,
     "metadata": {},
     "output_type": "execute_result"
    }
   ],
   "source": [
    "df.isnull().sum()"
   ]
  },
  {
   "cell_type": "code",
   "execution_count": 10,
   "id": "69cbb2dd",
   "metadata": {},
   "outputs": [
    {
     "data": {
      "text/html": [
       "<div>\n",
       "<style scoped>\n",
       "    .dataframe tbody tr th:only-of-type {\n",
       "        vertical-align: middle;\n",
       "    }\n",
       "\n",
       "    .dataframe tbody tr th {\n",
       "        vertical-align: top;\n",
       "    }\n",
       "\n",
       "    .dataframe thead th {\n",
       "        text-align: right;\n",
       "    }\n",
       "</style>\n",
       "<table border=\"1\" class=\"dataframe\">\n",
       "  <thead>\n",
       "    <tr style=\"text-align: right;\">\n",
       "      <th></th>\n",
       "      <th>location</th>\n",
       "      <th>Year</th>\n",
       "      <th>Month</th>\n",
       "      <th>Tmax</th>\n",
       "      <th>Tmin</th>\n",
       "      <th>RH</th>\n",
       "      <th>WindSpeed</th>\n",
       "      <th>Rainfall</th>\n",
       "    </tr>\n",
       "  </thead>\n",
       "  <tbody>\n",
       "    <tr>\n",
       "      <th>0</th>\n",
       "      <td>Paro</td>\n",
       "      <td>2000</td>\n",
       "      <td>1</td>\n",
       "      <td>9.5</td>\n",
       "      <td>-0.4</td>\n",
       "      <td>65.0</td>\n",
       "      <td>0.26</td>\n",
       "      <td>0.0</td>\n",
       "    </tr>\n",
       "    <tr>\n",
       "      <th>1</th>\n",
       "      <td>Paro</td>\n",
       "      <td>2000</td>\n",
       "      <td>2</td>\n",
       "      <td>10.6</td>\n",
       "      <td>2.0</td>\n",
       "      <td>65.0</td>\n",
       "      <td>0.52</td>\n",
       "      <td>0.0</td>\n",
       "    </tr>\n",
       "    <tr>\n",
       "      <th>2</th>\n",
       "      <td>Paro</td>\n",
       "      <td>2000</td>\n",
       "      <td>3</td>\n",
       "      <td>14.5</td>\n",
       "      <td>4.0</td>\n",
       "      <td>69.0</td>\n",
       "      <td>0.52</td>\n",
       "      <td>11.0</td>\n",
       "    </tr>\n",
       "    <tr>\n",
       "      <th>3</th>\n",
       "      <td>Paro</td>\n",
       "      <td>2000</td>\n",
       "      <td>4</td>\n",
       "      <td>19.6</td>\n",
       "      <td>8.7</td>\n",
       "      <td>77.0</td>\n",
       "      <td>0.42</td>\n",
       "      <td>23.4</td>\n",
       "    </tr>\n",
       "    <tr>\n",
       "      <th>4</th>\n",
       "      <td>Paro</td>\n",
       "      <td>2000</td>\n",
       "      <td>5</td>\n",
       "      <td>22.5</td>\n",
       "      <td>10.2</td>\n",
       "      <td>77.0</td>\n",
       "      <td>0.24</td>\n",
       "      <td>98.4</td>\n",
       "    </tr>\n",
       "  </tbody>\n",
       "</table>\n",
       "</div>"
      ],
      "text/plain": [
       "  location  Year  Month  Tmax  Tmin    RH  WindSpeed  Rainfall\n",
       "0     Paro  2000      1   9.5  -0.4  65.0       0.26       0.0\n",
       "1     Paro  2000      2  10.6   2.0  65.0       0.52       0.0\n",
       "2     Paro  2000      3  14.5   4.0  69.0       0.52      11.0\n",
       "3     Paro  2000      4  19.6   8.7  77.0       0.42      23.4\n",
       "4     Paro  2000      5  22.5  10.2  77.0       0.24      98.4"
      ]
     },
     "execution_count": 10,
     "metadata": {},
     "output_type": "execute_result"
    },
    {
     "data": {
      "text/html": [
       "<div>\n",
       "<style scoped>\n",
       "    .dataframe tbody tr th:only-of-type {\n",
       "        vertical-align: middle;\n",
       "    }\n",
       "\n",
       "    .dataframe tbody tr th {\n",
       "        vertical-align: top;\n",
       "    }\n",
       "\n",
       "    .dataframe thead th {\n",
       "        text-align: right;\n",
       "    }\n",
       "</style>\n",
       "<table border=\"1\" class=\"dataframe\">\n",
       "  <thead>\n",
       "    <tr style=\"text-align: right;\">\n",
       "      <th></th>\n",
       "      <th>location</th>\n",
       "      <th>Year</th>\n",
       "      <th>Month</th>\n",
       "      <th>Tmax</th>\n",
       "      <th>Tmin</th>\n",
       "      <th>RH</th>\n",
       "      <th>WindSpeed</th>\n",
       "      <th>Rainfall</th>\n",
       "    </tr>\n",
       "  </thead>\n",
       "  <tbody>\n",
       "    <tr>\n",
       "      <th>0</th>\n",
       "      <td>Paro</td>\n",
       "      <td>2000</td>\n",
       "      <td>1</td>\n",
       "      <td>9.5</td>\n",
       "      <td>-0.4</td>\n",
       "      <td>65.0</td>\n",
       "      <td>0.26</td>\n",
       "      <td>0.0</td>\n",
       "    </tr>\n",
       "    <tr>\n",
       "      <th>1</th>\n",
       "      <td>Paro</td>\n",
       "      <td>2000</td>\n",
       "      <td>2</td>\n",
       "      <td>10.6</td>\n",
       "      <td>2.0</td>\n",
       "      <td>65.0</td>\n",
       "      <td>0.52</td>\n",
       "      <td>0.0</td>\n",
       "    </tr>\n",
       "    <tr>\n",
       "      <th>2</th>\n",
       "      <td>Paro</td>\n",
       "      <td>2000</td>\n",
       "      <td>3</td>\n",
       "      <td>14.5</td>\n",
       "      <td>4.0</td>\n",
       "      <td>69.0</td>\n",
       "      <td>0.52</td>\n",
       "      <td>11.0</td>\n",
       "    </tr>\n",
       "    <tr>\n",
       "      <th>3</th>\n",
       "      <td>Paro</td>\n",
       "      <td>2000</td>\n",
       "      <td>4</td>\n",
       "      <td>19.6</td>\n",
       "      <td>8.7</td>\n",
       "      <td>77.0</td>\n",
       "      <td>0.42</td>\n",
       "      <td>23.4</td>\n",
       "    </tr>\n",
       "    <tr>\n",
       "      <th>4</th>\n",
       "      <td>Paro</td>\n",
       "      <td>2000</td>\n",
       "      <td>5</td>\n",
       "      <td>22.5</td>\n",
       "      <td>10.2</td>\n",
       "      <td>77.0</td>\n",
       "      <td>0.24</td>\n",
       "      <td>98.4</td>\n",
       "    </tr>\n",
       "  </tbody>\n",
       "</table>\n",
       "</div>"
      ],
      "text/plain": [
       "  location  Year  Month  Tmax  Tmin    RH  WindSpeed  Rainfall\n",
       "0     Paro  2000      1   9.5  -0.4  65.0       0.26       0.0\n",
       "1     Paro  2000      2  10.6   2.0  65.0       0.52       0.0\n",
       "2     Paro  2000      3  14.5   4.0  69.0       0.52      11.0\n",
       "3     Paro  2000      4  19.6   8.7  77.0       0.42      23.4\n",
       "4     Paro  2000      5  22.5  10.2  77.0       0.24      98.4"
      ]
     },
     "execution_count": 10,
     "metadata": {},
     "output_type": "execute_result"
    }
   ],
   "source": [
    "df.head(5)"
   ]
  },
  {
   "cell_type": "code",
   "execution_count": 11,
   "id": "e8b8d5c3",
   "metadata": {},
   "outputs": [],
   "source": [
    "df[['Tmax','Tmin','RH','WindSpeed','Rainfall']]=df[['Tmax','Tmin','RH','WindSpeed','Rainfall']].fillna(df[['Tmax','Tmin','RH','WindSpeed','Rainfall']].mean())"
   ]
  },
  {
   "cell_type": "code",
   "execution_count": 12,
   "id": "2388be3a",
   "metadata": {},
   "outputs": [
    {
     "data": {
      "text/plain": [
       "location     0\n",
       "Year         0\n",
       "Month        0\n",
       "Tmax         0\n",
       "Tmin         0\n",
       "RH           0\n",
       "WindSpeed    0\n",
       "Rainfall     0\n",
       "dtype: int64"
      ]
     },
     "execution_count": 12,
     "metadata": {},
     "output_type": "execute_result"
    },
    {
     "data": {
      "text/plain": [
       "location     0\n",
       "Year         0\n",
       "Month        0\n",
       "Tmax         0\n",
       "Tmin         0\n",
       "RH           0\n",
       "WindSpeed    0\n",
       "Rainfall     0\n",
       "dtype: int64"
      ]
     },
     "execution_count": 12,
     "metadata": {},
     "output_type": "execute_result"
    }
   ],
   "source": [
    "\n",
    "df.isna().sum()"
   ]
  },
  {
   "cell_type": "code",
   "execution_count": 13,
   "id": "2bb8bea3",
   "metadata": {},
   "outputs": [
    {
     "data": {
      "text/plain": [
       "Paro            264\n",
       "Pemagatshel     264\n",
       "Punakha         264\n",
       "simkotha        264\n",
       "Chamkhar        264\n",
       "Haa             264\n",
       "Kanglung        264\n",
       "Mongar          264\n",
       "Tashiyangtse    264\n",
       "Deothang        263\n",
       "Name: location, dtype: int64"
      ]
     },
     "execution_count": 13,
     "metadata": {},
     "output_type": "execute_result"
    },
    {
     "data": {
      "text/plain": [
       "Paro            264\n",
       "Pemagatshel     264\n",
       "Punakha         264\n",
       "simkotha        264\n",
       "Chamkhar        264\n",
       "Haa             264\n",
       "Kanglung        264\n",
       "Mongar          264\n",
       "Tashiyangtse    264\n",
       "Deothang        263\n",
       "Name: location, dtype: int64"
      ]
     },
     "execution_count": 13,
     "metadata": {},
     "output_type": "execute_result"
    }
   ],
   "source": [
    "df['location'].value_counts()"
   ]
  },
  {
   "cell_type": "markdown",
   "id": "7981a5e4",
   "metadata": {},
   "source": [
    "#### Outlier detection"
   ]
  },
  {
   "cell_type": "code",
   "execution_count": 14,
   "id": "88fbfeef",
   "metadata": {},
   "outputs": [
    {
     "data": {
      "image/png": "[encoded data removed]",
      "text/plain": [
       "<Figure size 432x288 with 1 Axes>"
      ]
     },
     "metadata": {
      "needs_background": "light"
     },
     "output_type": "display_data"
    },
    {
     "data": {
      "image/png": "[encoded data removed]",
      "text/plain": [
       "<Figure size 432x288 with 1 Axes>"
      ]
     },
     "metadata": {
      "needs_background": "light"
     },
     "output_type": "display_data"
    }
   ],
   "source": [
    "sns.boxplot(x = df['Year'])\n",
    "plt.show()"
   ]
  },
  {
   "cell_type": "code",
   "execution_count": 15,
   "id": "ec183771",
   "metadata": {},
   "outputs": [
    {
     "data": {
      "image/png": "[encoded data removed]",
      "text/plain": [
       "<Figure size 432x288 with 1 Axes>"
      ]
     },
     "metadata": {
      "needs_background": "light"
     },
     "output_type": "display_data"
    },
    {
     "data": {
      "image/png": "[encoded data removed]",
      "text/plain": [
       "<Figure size 432x288 with 1 Axes>"
      ]
     },
     "metadata": {
      "needs_background": "light"
     },
     "output_type": "display_data"
    }
   ],
   "source": [
    "\n",
    "sns.boxplot(x = df['Month'])\n",
    "plt.show()"
   ]
  },
  {
   "cell_type": "code",
   "execution_count": 16,
   "id": "4cade259",
   "metadata": {},
   "outputs": [
    {
     "data": {
      "image/png": "[encoded data removed]",
      "text/plain": [
       "<Figure size 432x288 with 1 Axes>"
      ]
     },
     "metadata": {
      "needs_background": "light"
     },
     "output_type": "display_data"
    },
    {
     "data": {
      "image/png": "[encoded data removed]",
      "text/plain": [
       "<Figure size 432x288 with 1 Axes>"
      ]
     },
     "metadata": {
      "needs_background": "light"
     },
     "output_type": "display_data"
    }
   ],
   "source": [
    "sns.boxplot(x = df['Tmax'])\n",
    "plt.show()"
   ]
  },
  {
   "cell_type": "code",
   "execution_count": 17,
   "id": "f86a0533",
   "metadata": {},
   "outputs": [
    {
     "data": {
      "image/png": "[encoded data removed]",
      "text/plain": [
       "<Figure size 432x288 with 1 Axes>"
      ]
     },
     "metadata": {
      "needs_background": "light"
     },
     "output_type": "display_data"
    },
    {
     "data": {
      "image/png": "[encoded data removed]",
      "text/plain": [
       "<Figure size 432x288 with 1 Axes>"
      ]
     },
     "metadata": {
      "needs_background": "light"
     },
     "output_type": "display_data"
    }
   ],
   "source": [
    "sns.boxplot(x = df['Tmin'])\n",
    "plt.show()"
   ]
  },
  {
   "cell_type": "code",
   "execution_count": 18,
   "id": "46ed7aa8",
   "metadata": {},
   "outputs": [
    {
     "data": {
      "image/png": "[encoded data removed]",
      "text/plain": [
       "<Figure size 432x288 with 1 Axes>"
      ]
     },
     "metadata": {
      "needs_background": "light"
     },
     "output_type": "display_data"
    },
    {
     "data": {
      "image/png": "[encoded data removed]",
      "text/plain": [
       "<Figure size 432x288 with 1 Axes>"
      ]
     },
     "metadata": {
      "needs_background": "light"
     },
     "output_type": "display_data"
    }
   ],
   "source": [
    "sns.boxplot(x = df['RH'])\n",
    "plt.show()"
   ]
  },
  {
   "cell_type": "markdown",
   "id": "ec6e92d2",
   "metadata": {},
   "source": [
    "#### Removing Outliers"
   ]
  },
  {
   "cell_type": "code",
   "execution_count": 19,
   "id": "ab0b2538",
   "metadata": {},
   "outputs": [],
   "source": [
    "def remove_outlier_rh(df):\n",
    "    temp = pd.DataFrame()\n",
    "    df_rh = df['RH']\n",
    "\n",
    "    Q1 = df_rh.quantile(0.25)\n",
    "    Q3 = df_rh.quantile(0.75)\n",
    "    IQR = Q3 - Q1\n",
    "    df_outlier = df_rh[(df_rh < (Q1 - 1.5 * IQR)) | (df_rh > (Q3 + 1.5 * IQR))]\n",
    "    temp = pd.concat([temp,df_outlier])\n",
    "        \n",
    "    return df.drop(temp.index)\n",
    "\n",
    "df2 = remove_outlier_rh(df)"
   ]
  },
  {
   "cell_type": "code",
   "execution_count": 20,
   "id": "b5bebeb5",
   "metadata": {},
   "outputs": [
    {
     "data": {
      "image/png": "[encoded data removed]",
      "text/plain": [
       "<Figure size 432x288 with 1 Axes>"
      ]
     },
     "metadata": {
      "needs_background": "light"
     },
     "output_type": "display_data"
    },
    {
     "data": {
      "image/png": "[encoded data removed]",
      "text/plain": [
       "<Figure size 432x288 with 1 Axes>"
      ]
     },
     "metadata": {
      "needs_background": "light"
     },
     "output_type": "display_data"
    }
   ],
   "source": [
    "#After removing outlier  \n",
    "sns.boxplot(x = df2['RH'])\n",
    "plt.show()"
   ]
  },
  {
   "cell_type": "code",
   "execution_count": 21,
   "id": "14745d29",
   "metadata": {},
   "outputs": [
    {
     "data": {
      "image/png": "[encoded data removed]",
      "text/plain": [
       "<Figure size 432x288 with 1 Axes>"
      ]
     },
     "metadata": {
      "needs_background": "light"
     },
     "output_type": "display_data"
    },
    {
     "data": {
      "image/png": "[encoded data removed]",
      "text/plain": [
       "<Figure size 432x288 with 1 Axes>"
      ]
     },
     "metadata": {
      "needs_background": "light"
     },
     "output_type": "display_data"
    }
   ],
   "source": [
    "#before\n",
    "sns.boxplot(x = df['WindSpeed'])\n",
    "plt.show()"
   ]
  },
  {
   "cell_type": "markdown",
   "id": "254ab1cb",
   "metadata": {},
   "source": [
    "#### Removing Outliers"
   ]
  },
  {
   "cell_type": "code",
   "execution_count": 22,
   "id": "7481d2d5",
   "metadata": {},
   "outputs": [],
   "source": [
    "def remove_outlier_wind(df):\n",
    "    temp = pd.DataFrame()\n",
    "    df_wind = df['WindSpeed']\n",
    "\n",
    "    Q1 = df_wind.quantile(0.25)\n",
    "    Q3 = df_wind.quantile(0.75)\n",
    "    IQR = Q3 - Q1\n",
    "    df_outlier = df_wind[(df_wind < (Q1 - 1.5 * IQR)) | (df_wind > (Q3 + 1.5 * IQR))]\n",
    "    temp = pd.concat([temp,df_outlier])\n",
    "        \n",
    "    return df.drop(temp.index)\n",
    "\n",
    "df3 = remove_outlier_wind(df2)"
   ]
  },
  {
   "cell_type": "code",
   "execution_count": 23,
   "id": "1e84b1ee",
   "metadata": {},
   "outputs": [
    {
     "data": {
      "image/png": "[encoded data removed]",
      "text/plain": [
       "<Figure size 432x288 with 1 Axes>"
      ]
     },
     "metadata": {
      "needs_background": "light"
     },
     "output_type": "display_data"
    },
    {
     "data": {
      "image/png": "[encoded data removed]",
      "text/plain": [
       "<Figure size 432x288 with 1 Axes>"
      ]
     },
     "metadata": {
      "needs_background": "light"
     },
     "output_type": "display_data"
    },
    {
     "data": {
      "text/plain": [
       "(2590, 8)"
      ]
     },
     "execution_count": 23,
     "metadata": {},
     "output_type": "execute_result"
    },
    {
     "data": {
      "text/plain": [
       "(2590, 8)"
      ]
     },
     "execution_count": 23,
     "metadata": {},
     "output_type": "execute_result"
    }
   ],
   "source": [
    "sns.boxplot(x = df3['WindSpeed'])\n",
    "plt.show()\n",
    "df3.shape"
   ]
  },
  {
   "cell_type": "code",
   "execution_count": 24,
   "id": "c8485229",
   "metadata": {},
   "outputs": [],
   "source": [
    "# df3."
   ]
  },
  {
   "cell_type": "code",
   "execution_count": 25,
   "id": "ee2554f1",
   "metadata": {},
   "outputs": [
    {
     "data": {
      "image/png": "[encoded data removed]",
      "text/plain": [
       "<Figure size 432x288 with 1 Axes>"
      ]
     },
     "metadata": {
      "needs_background": "light"
     },
     "output_type": "display_data"
    },
    {
     "data": {
      "image/png": "[encoded data removed]",
      "text/plain": [
       "<Figure size 432x288 with 1 Axes>"
      ]
     },
     "metadata": {
      "needs_background": "light"
     },
     "output_type": "display_data"
    }
   ],
   "source": [
    "#before\n",
    "sns.boxplot(x = df['Rainfall'])\n",
    "plt.show()"
   ]
  },
  {
   "cell_type": "markdown",
   "id": "e8bbbd3a",
   "metadata": {},
   "source": [
    "#### Removing Outliers"
   ]
  },
  {
   "cell_type": "code",
   "execution_count": 26,
   "id": "2f04da3b",
   "metadata": {},
   "outputs": [],
   "source": [
    "def remove_outlier_Rainfall(df):\n",
    "    temp = pd.DataFrame()\n",
    "    df_Rainfall = df['Rainfall']\n",
    "\n",
    "    Q1 = df_Rainfall.quantile(0.25)\n",
    "    Q3 = df_Rainfall.quantile(0.75)\n",
    "    IQR = Q3 - Q1\n",
    "    df_outlier = df_Rainfall[(df_Rainfall < (Q1 - 1.5 * IQR)) | (df_Rainfall > (Q3 + 1.5 * IQR))]\n",
    "    temp = pd.concat([temp,df_outlier])\n",
    "        \n",
    "    return df.drop(temp.index)\n",
    "\n",
    "df4 = remove_outlier_Rainfall(df3)"
   ]
  },
  {
   "cell_type": "code",
   "execution_count": 27,
   "id": "f7906714",
   "metadata": {},
   "outputs": [
    {
     "data": {
      "image/png": "[encoded data removed]",
      "text/plain": [
       "<Figure size 432x288 with 1 Axes>"
      ]
     },
     "metadata": {
      "needs_background": "light"
     },
     "output_type": "display_data"
    },
    {
     "data": {
      "text/plain": [
       "(2435, 8)"
      ]
     },
     "execution_count": 27,
     "metadata": {},
     "output_type": "execute_result"
    },
    {
     "data": {
      "image/png": "[encoded data removed]",
      "text/plain": [
       "<Figure size 432x288 with 1 Axes>"
      ]
     },
     "metadata": {
      "needs_background": "light"
     },
     "output_type": "display_data"
    },
    {
     "data": {
      "text/plain": [
       "(2435, 8)"
      ]
     },
     "execution_count": 27,
     "metadata": {},
     "output_type": "execute_result"
    }
   ],
   "source": [
    "#after\n",
    "sns.boxplot(x = df4['Rainfall'])\n",
    "plt.show()\n",
    "df4.shape"
   ]
  },
  {
   "cell_type": "markdown",
   "id": "cc57c83e",
   "metadata": {},
   "source": [
    "#### Label encoding location "
   ]
  },
  {
   "cell_type": "code",
   "execution_count": 28,
   "id": "a1f6833a",
   "metadata": {},
   "outputs": [
    {
     "data": {
      "text/plain": [
       "array([5, 6, 7, 9, 0, 1, 2, 3, 4, 8])"
      ]
     },
     "execution_count": 28,
     "metadata": {},
     "output_type": "execute_result"
    },
    {
     "data": {
      "text/plain": [
       "array([5, 6, 7, 9, 0, 1, 2, 3, 4, 8])"
      ]
     },
     "execution_count": 28,
     "metadata": {},
     "output_type": "execute_result"
    }
   ],
   "source": [
    "label_encoder = preprocessing.LabelEncoder()\n",
    "df4['location'] = label_encoder.fit_transform(df4['location'])\n",
    "df4.head()\n",
    "df4.location.unique()"
   ]
  },
  {
   "cell_type": "markdown",
   "id": "2dfc977c",
   "metadata": {},
   "source": [
    "#### Feature Transformation"
   ]
  },
  {
   "cell_type": "code",
   "execution_count": 29,
   "id": "2b28d533",
   "metadata": {},
   "outputs": [
    {
     "data": {
      "image/png": "[encoded data removed]",
      "text/plain": [
       "<Figure size 720x720 with 9 Axes>"
      ]
     },
     "metadata": {
      "needs_background": "light"
     },
     "output_type": "display_data"
    },
    {
     "data": {
      "image/png": "[encoded data removed]",
      "text/plain": [
       "<Figure size 720x720 with 9 Axes>"
      ]
     },
     "metadata": {
      "needs_background": "light"
     },
     "output_type": "display_data"
    }
   ],
   "source": [
    "df4.hist(bins=25,figsize=(10,10))\n",
    "\n",
    "plt.show()"
   ]
  },
  {
   "cell_type": "code",
   "execution_count": 30,
   "id": "e35ac0c1",
   "metadata": {},
   "outputs": [
    {
     "data": {
      "text/plain": [
       "0       5\n",
       "1       5\n",
       "2       5\n",
       "3       5\n",
       "4       5\n",
       "       ..\n",
       "2634    8\n",
       "2635    8\n",
       "2636    8\n",
       "2637    8\n",
       "2638    8\n",
       "Name: location, Length: 2435, dtype: int32"
      ]
     },
     "execution_count": 30,
     "metadata": {},
     "output_type": "execute_result"
    },
    {
     "data": {
      "text/plain": [
       "0       5\n",
       "1       5\n",
       "2       5\n",
       "3       5\n",
       "4       5\n",
       "       ..\n",
       "2634    8\n",
       "2635    8\n",
       "2636    8\n",
       "2637    8\n",
       "2638    8\n",
       "Name: location, Length: 2435, dtype: int32"
      ]
     },
     "execution_count": 30,
     "metadata": {},
     "output_type": "execute_result"
    }
   ],
   "source": [
    "df4.location"
   ]
  },
  {
   "cell_type": "code",
   "execution_count": 31,
   "id": "202ef087",
   "metadata": {},
   "outputs": [
    {
     "data": {
      "image/png": "[encoded data removed]",
      "text/plain": [
       "<Figure size 432x288 with 1 Axes>"
      ]
     },
     "metadata": {
      "needs_background": "light"
     },
     "output_type": "display_data"
    },
    {
     "data": {
      "image/png": "[encoded data removed]",
      "text/plain": [
       "<Figure size 432x288 with 1 Axes>"
      ]
     },
     "metadata": {
      "needs_background": "light"
     },
     "output_type": "display_data"
    }
   ],
   "source": [
    "x=np.cbrt(df4.Rainfall)\n",
    "\n",
    "plt.hist(x,bins=20, rwidth=0.8)\n",
    "plt.xlabel(\"Rainfall\")\n",
    "plt.show()"
   ]
  },
  {
   "cell_type": "code",
   "execution_count": 32,
   "id": "b7601d29",
   "metadata": {},
   "outputs": [
    {
     "data": {
      "image/png": "[encoded data removed]",
      "text/plain": [
       "<Figure size 432x288 with 1 Axes>"
      ]
     },
     "metadata": {
      "needs_background": "light"
     },
     "output_type": "display_data"
    },
    {
     "data": {
      "image/png": "[encoded data removed]",
      "text/plain": [
       "<Figure size 432x288 with 1 Axes>"
      ]
     },
     "metadata": {
      "needs_background": "light"
     },
     "output_type": "display_data"
    }
   ],
   "source": [
    "x=np.cbrt(df4.WindSpeed)\n",
    "\n",
    "plt.hist(x,bins=20, rwidth=0.8)\n",
    "plt.xlabel(\"WindSpeed\")\n",
    "plt.show()"
   ]
  },
  {
   "cell_type": "markdown",
   "id": "fbcf0838",
   "metadata": {},
   "source": [
    "#### Visualization"
   ]
  },
  {
   "cell_type": "code",
   "execution_count": 33,
   "id": "41237af2",
   "metadata": {},
   "outputs": [
    {
     "data": {
      "text/html": [
       "<div>\n",
       "<style scoped>\n",
       "    .dataframe tbody tr th:only-of-type {\n",
       "        vertical-align: middle;\n",
       "    }\n",
       "\n",
       "    .dataframe tbody tr th {\n",
       "        vertical-align: top;\n",
       "    }\n",
       "\n",
       "    .dataframe thead th {\n",
       "        text-align: right;\n",
       "    }\n",
       "</style>\n",
       "<table border=\"1\" class=\"dataframe\">\n",
       "  <thead>\n",
       "    <tr style=\"text-align: right;\">\n",
       "      <th></th>\n",
       "      <th>location</th>\n",
       "      <th>Year</th>\n",
       "      <th>Month</th>\n",
       "      <th>Tmax</th>\n",
       "      <th>Tmin</th>\n",
       "      <th>RH</th>\n",
       "      <th>WindSpeed</th>\n",
       "      <th>Rainfall</th>\n",
       "    </tr>\n",
       "  </thead>\n",
       "  <tbody>\n",
       "    <tr>\n",
       "      <th>location</th>\n",
       "      <td>1.000000</td>\n",
       "      <td>-0.009833</td>\n",
       "      <td>0.007237</td>\n",
       "      <td>0.244738</td>\n",
       "      <td>0.122470</td>\n",
       "      <td>0.002625</td>\n",
       "      <td>-0.192069</td>\n",
       "      <td>-0.021428</td>\n",
       "    </tr>\n",
       "    <tr>\n",
       "      <th>Year</th>\n",
       "      <td>-0.009833</td>\n",
       "      <td>1.000000</td>\n",
       "      <td>-0.004575</td>\n",
       "      <td>0.084029</td>\n",
       "      <td>-0.033587</td>\n",
       "      <td>-0.170436</td>\n",
       "      <td>-0.142216</td>\n",
       "      <td>-0.009166</td>\n",
       "    </tr>\n",
       "    <tr>\n",
       "      <th>Month</th>\n",
       "      <td>0.007237</td>\n",
       "      <td>-0.004575</td>\n",
       "      <td>1.000000</td>\n",
       "      <td>0.206313</td>\n",
       "      <td>0.198885</td>\n",
       "      <td>0.124909</td>\n",
       "      <td>-0.248620</td>\n",
       "      <td>0.059312</td>\n",
       "    </tr>\n",
       "    <tr>\n",
       "      <th>Tmax</th>\n",
       "      <td>0.244738</td>\n",
       "      <td>0.084029</td>\n",
       "      <td>0.206313</td>\n",
       "      <td>1.000000</td>\n",
       "      <td>0.852653</td>\n",
       "      <td>0.299629</td>\n",
       "      <td>-0.230521</td>\n",
       "      <td>0.491026</td>\n",
       "    </tr>\n",
       "    <tr>\n",
       "      <th>Tmin</th>\n",
       "      <td>0.122470</td>\n",
       "      <td>-0.033587</td>\n",
       "      <td>0.198885</td>\n",
       "      <td>0.852653</td>\n",
       "      <td>1.000000</td>\n",
       "      <td>0.458584</td>\n",
       "      <td>-0.241526</td>\n",
       "      <td>0.620165</td>\n",
       "    </tr>\n",
       "    <tr>\n",
       "      <th>RH</th>\n",
       "      <td>0.002625</td>\n",
       "      <td>-0.170436</td>\n",
       "      <td>0.124909</td>\n",
       "      <td>0.299629</td>\n",
       "      <td>0.458584</td>\n",
       "      <td>1.000000</td>\n",
       "      <td>-0.258620</td>\n",
       "      <td>0.517795</td>\n",
       "    </tr>\n",
       "    <tr>\n",
       "      <th>WindSpeed</th>\n",
       "      <td>-0.192069</td>\n",
       "      <td>-0.142216</td>\n",
       "      <td>-0.248620</td>\n",
       "      <td>-0.230521</td>\n",
       "      <td>-0.241526</td>\n",
       "      <td>-0.258620</td>\n",
       "      <td>1.000000</td>\n",
       "      <td>-0.161591</td>\n",
       "    </tr>\n",
       "    <tr>\n",
       "      <th>Rainfall</th>\n",
       "      <td>-0.021428</td>\n",
       "      <td>-0.009166</td>\n",
       "      <td>0.059312</td>\n",
       "      <td>0.491026</td>\n",
       "      <td>0.620165</td>\n",
       "      <td>0.517795</td>\n",
       "      <td>-0.161591</td>\n",
       "      <td>1.000000</td>\n",
       "    </tr>\n",
       "  </tbody>\n",
       "</table>\n",
       "</div>"
      ],
      "text/plain": [
       "           location      Year     Month      Tmax      Tmin        RH  \\\n",
       "location   1.000000 -0.009833  0.007237  0.244738  0.122470  0.002625   \n",
       "Year      -0.009833  1.000000 -0.004575  0.084029 -0.033587 -0.170436   \n",
       "Month      0.007237 -0.004575  1.000000  0.206313  0.198885  0.124909   \n",
       "Tmax       0.244738  0.084029  0.206313  1.000000  0.852653  0.299629   \n",
       "Tmin       0.122470 -0.033587  0.198885  0.852653  1.000000  0.458584   \n",
       "RH         0.002625 -0.170436  0.124909  0.299629  0.458584  1.000000   \n",
       "WindSpeed -0.192069 -0.142216 -0.248620 -0.230521 -0.241526 -0.258620   \n",
       "Rainfall  -0.021428 -0.009166  0.059312  0.491026  0.620165  0.517795   \n",
       "\n",
       "           WindSpeed  Rainfall  \n",
       "location   -0.192069 -0.021428  \n",
       "Year       -0.142216 -0.009166  \n",
       "Month      -0.248620  0.059312  \n",
       "Tmax       -0.230521  0.491026  \n",
       "Tmin       -0.241526  0.620165  \n",
       "RH         -0.258620  0.517795  \n",
       "WindSpeed   1.000000 -0.161591  \n",
       "Rainfall   -0.161591  1.000000  "
      ]
     },
     "execution_count": 33,
     "metadata": {},
     "output_type": "execute_result"
    },
    {
     "data": {
      "text/html": [
       "<div>\n",
       "<style scoped>\n",
       "    .dataframe tbody tr th:only-of-type {\n",
       "        vertical-align: middle;\n",
       "    }\n",
       "\n",
       "    .dataframe tbody tr th {\n",
       "        vertical-align: top;\n",
       "    }\n",
       "\n",
       "    .dataframe thead th {\n",
       "        text-align: right;\n",
       "    }\n",
       "</style>\n",
       "<table border=\"1\" class=\"dataframe\">\n",
       "  <thead>\n",
       "    <tr style=\"text-align: right;\">\n",
       "      <th></th>\n",
       "      <th>location</th>\n",
       "      <th>Year</th>\n",
       "      <th>Month</th>\n",
       "      <th>Tmax</th>\n",
       "      <th>Tmin</th>\n",
       "      <th>RH</th>\n",
       "      <th>WindSpeed</th>\n",
       "      <th>Rainfall</th>\n",
       "    </tr>\n",
       "  </thead>\n",
       "  <tbody>\n",
       "    <tr>\n",
       "      <th>location</th>\n",
       "      <td>1.000000</td>\n",
       "      <td>-0.009833</td>\n",
       "      <td>0.007237</td>\n",
       "      <td>0.244738</td>\n",
       "      <td>0.122470</td>\n",
       "      <td>0.002625</td>\n",
       "      <td>-0.192069</td>\n",
       "      <td>-0.021428</td>\n",
       "    </tr>\n",
       "    <tr>\n",
       "      <th>Year</th>\n",
       "      <td>-0.009833</td>\n",
       "      <td>1.000000</td>\n",
       "      <td>-0.004575</td>\n",
       "      <td>0.084029</td>\n",
       "      <td>-0.033587</td>\n",
       "      <td>-0.170436</td>\n",
       "      <td>-0.142216</td>\n",
       "      <td>-0.009166</td>\n",
       "    </tr>\n",
       "    <tr>\n",
       "      <th>Month</th>\n",
       "      <td>0.007237</td>\n",
       "      <td>-0.004575</td>\n",
       "      <td>1.000000</td>\n",
       "      <td>0.206313</td>\n",
       "      <td>0.198885</td>\n",
       "      <td>0.124909</td>\n",
       "      <td>-0.248620</td>\n",
       "      <td>0.059312</td>\n",
       "    </tr>\n",
       "    <tr>\n",
       "      <th>Tmax</th>\n",
       "      <td>0.244738</td>\n",
       "      <td>0.084029</td>\n",
       "      <td>0.206313</td>\n",
       "      <td>1.000000</td>\n",
       "      <td>0.852653</td>\n",
       "      <td>0.299629</td>\n",
       "      <td>-0.230521</td>\n",
       "      <td>0.491026</td>\n",
       "    </tr>\n",
       "    <tr>\n",
       "      <th>Tmin</th>\n",
       "      <td>0.122470</td>\n",
       "      <td>-0.033587</td>\n",
       "      <td>0.198885</td>\n",
       "      <td>0.852653</td>\n",
       "      <td>1.000000</td>\n",
       "      <td>0.458584</td>\n",
       "      <td>-0.241526</td>\n",
       "      <td>0.620165</td>\n",
       "    </tr>\n",
       "    <tr>\n",
       "      <th>RH</th>\n",
       "      <td>0.002625</td>\n",
       "      <td>-0.170436</td>\n",
       "      <td>0.124909</td>\n",
       "      <td>0.299629</td>\n",
       "      <td>0.458584</td>\n",
       "      <td>1.000000</td>\n",
       "      <td>-0.258620</td>\n",
       "      <td>0.517795</td>\n",
       "    </tr>\n",
       "    <tr>\n",
       "      <th>WindSpeed</th>\n",
       "      <td>-0.192069</td>\n",
       "      <td>-0.142216</td>\n",
       "      <td>-0.248620</td>\n",
       "      <td>-0.230521</td>\n",
       "      <td>-0.241526</td>\n",
       "      <td>-0.258620</td>\n",
       "      <td>1.000000</td>\n",
       "      <td>-0.161591</td>\n",
       "    </tr>\n",
       "    <tr>\n",
       "      <th>Rainfall</th>\n",
       "      <td>-0.021428</td>\n",
       "      <td>-0.009166</td>\n",
       "      <td>0.059312</td>\n",
       "      <td>0.491026</td>\n",
       "      <td>0.620165</td>\n",
       "      <td>0.517795</td>\n",
       "      <td>-0.161591</td>\n",
       "      <td>1.000000</td>\n",
       "    </tr>\n",
       "  </tbody>\n",
       "</table>\n",
       "</div>"
      ],
      "text/plain": [
       "           location      Year     Month      Tmax      Tmin        RH  \\\n",
       "location   1.000000 -0.009833  0.007237  0.244738  0.122470  0.002625   \n",
       "Year      -0.009833  1.000000 -0.004575  0.084029 -0.033587 -0.170436   \n",
       "Month      0.007237 -0.004575  1.000000  0.206313  0.198885  0.124909   \n",
       "Tmax       0.244738  0.084029  0.206313  1.000000  0.852653  0.299629   \n",
       "Tmin       0.122470 -0.033587  0.198885  0.852653  1.000000  0.458584   \n",
       "RH         0.002625 -0.170436  0.124909  0.299629  0.458584  1.000000   \n",
       "WindSpeed -0.192069 -0.142216 -0.248620 -0.230521 -0.241526 -0.258620   \n",
       "Rainfall  -0.021428 -0.009166  0.059312  0.491026  0.620165  0.517795   \n",
       "\n",
       "           WindSpeed  Rainfall  \n",
       "location   -0.192069 -0.021428  \n",
       "Year       -0.142216 -0.009166  \n",
       "Month      -0.248620  0.059312  \n",
       "Tmax       -0.230521  0.491026  \n",
       "Tmin       -0.241526  0.620165  \n",
       "RH         -0.258620  0.517795  \n",
       "WindSpeed   1.000000 -0.161591  \n",
       "Rainfall   -0.161591  1.000000  "
      ]
     },
     "execution_count": 33,
     "metadata": {},
     "output_type": "execute_result"
    }
   ],
   "source": [
    "df4.corr()"
   ]
  },
  {
   "cell_type": "code",
   "execution_count": 34,
   "id": "3acec80d",
   "metadata": {},
   "outputs": [
    {
     "data": {
      "text/plain": [
       "<AxesSubplot:>"
      ]
     },
     "execution_count": 34,
     "metadata": {},
     "output_type": "execute_result"
    },
    {
     "data": {
      "text/plain": [
       "<AxesSubplot:>"
      ]
     },
     "execution_count": 34,
     "metadata": {},
     "output_type": "execute_result"
    },
    {
     "data": {
      "image/png": "[encoded data removed]",
      "text/plain": [
       "<Figure size 432x288 with 2 Axes>"
      ]
     },
     "metadata": {
      "needs_background": "light"
     },
     "output_type": "display_data"
    },
    {
     "data": {
      "image/png": "[encoded data removed]",
      "text/plain": [
       "<Figure size 432x288 with 2 Axes>"
      ]
     },
     "metadata": {
      "needs_background": "light"
     },
     "output_type": "display_data"
    }
   ],
   "source": [
    "sns.heatmap(df4.corr(), annot=True)"
   ]
  },
  {
   "cell_type": "markdown",
   "id": "8c88a5d3",
   "metadata": {},
   "source": [
    "### Feature Engineering "
   ]
  },
  {
   "cell_type": "markdown",
   "id": "6bab319c",
   "metadata": {},
   "source": [
    "#### Feature Scaling "
   ]
  },
  {
   "cell_type": "code",
   "execution_count": 35,
   "id": "a0240adf",
   "metadata": {},
   "outputs": [
    {
     "data": {
      "text/html": [
       "<div>\n",
       "<style scoped>\n",
       "    .dataframe tbody tr th:only-of-type {\n",
       "        vertical-align: middle;\n",
       "    }\n",
       "\n",
       "    .dataframe tbody tr th {\n",
       "        vertical-align: top;\n",
       "    }\n",
       "\n",
       "    .dataframe thead th {\n",
       "        text-align: right;\n",
       "    }\n",
       "</style>\n",
       "<table border=\"1\" class=\"dataframe\">\n",
       "  <thead>\n",
       "    <tr style=\"text-align: right;\">\n",
       "      <th></th>\n",
       "      <th>location</th>\n",
       "      <th>Year</th>\n",
       "      <th>Month</th>\n",
       "      <th>Tmax</th>\n",
       "      <th>Tmin</th>\n",
       "      <th>RH</th>\n",
       "      <th>WindSpeed</th>\n",
       "      <th>Rainfall</th>\n",
       "    </tr>\n",
       "  </thead>\n",
       "  <tbody>\n",
       "    <tr>\n",
       "      <th>0</th>\n",
       "      <td>0.131823</td>\n",
       "      <td>-1.652271</td>\n",
       "      <td>-1.557831</td>\n",
       "      <td>-2.329570</td>\n",
       "      <td>-1.497988</td>\n",
       "      <td>-0.761562</td>\n",
       "      <td>-1.456169</td>\n",
       "      <td>-0.956155</td>\n",
       "    </tr>\n",
       "    <tr>\n",
       "      <th>1</th>\n",
       "      <td>0.131823</td>\n",
       "      <td>-1.652271</td>\n",
       "      <td>-1.274388</td>\n",
       "      <td>-2.110319</td>\n",
       "      <td>-1.145336</td>\n",
       "      <td>-0.761562</td>\n",
       "      <td>-0.788486</td>\n",
       "      <td>-0.956155</td>\n",
       "    </tr>\n",
       "    <tr>\n",
       "      <th>2</th>\n",
       "      <td>0.131823</td>\n",
       "      <td>-1.652271</td>\n",
       "      <td>-0.990945</td>\n",
       "      <td>-1.332977</td>\n",
       "      <td>-0.851459</td>\n",
       "      <td>-0.323422</td>\n",
       "      <td>-0.788486</td>\n",
       "      <td>-0.804841</td>\n",
       "    </tr>\n",
       "    <tr>\n",
       "      <th>3</th>\n",
       "      <td>0.131823</td>\n",
       "      <td>-1.652271</td>\n",
       "      <td>-0.707502</td>\n",
       "      <td>-0.316452</td>\n",
       "      <td>-0.160848</td>\n",
       "      <td>0.552859</td>\n",
       "      <td>-1.045287</td>\n",
       "      <td>-0.634269</td>\n",
       "    </tr>\n",
       "    <tr>\n",
       "      <th>4</th>\n",
       "      <td>0.131823</td>\n",
       "      <td>-1.652271</td>\n",
       "      <td>-0.424059</td>\n",
       "      <td>0.261572</td>\n",
       "      <td>0.059560</td>\n",
       "      <td>0.552859</td>\n",
       "      <td>-1.507530</td>\n",
       "      <td>0.397418</td>\n",
       "    </tr>\n",
       "  </tbody>\n",
       "</table>\n",
       "</div>"
      ],
      "text/plain": [
       "   location      Year     Month      Tmax      Tmin        RH  WindSpeed  \\\n",
       "0  0.131823 -1.652271 -1.557831 -2.329570 -1.497988 -0.761562  -1.456169   \n",
       "1  0.131823 -1.652271 -1.274388 -2.110319 -1.145336 -0.761562  -0.788486   \n",
       "2  0.131823 -1.652271 -0.990945 -1.332977 -0.851459 -0.323422  -0.788486   \n",
       "3  0.131823 -1.652271 -0.707502 -0.316452 -0.160848  0.552859  -1.045287   \n",
       "4  0.131823 -1.652271 -0.424059  0.261572  0.059560  0.552859  -1.507530   \n",
       "\n",
       "   Rainfall  \n",
       "0 -0.956155  \n",
       "1 -0.956155  \n",
       "2 -0.804841  \n",
       "3 -0.634269  \n",
       "4  0.397418  "
      ]
     },
     "execution_count": 35,
     "metadata": {},
     "output_type": "execute_result"
    },
    {
     "data": {
      "text/html": [
       "<div>\n",
       "<style scoped>\n",
       "    .dataframe tbody tr th:only-of-type {\n",
       "        vertical-align: middle;\n",
       "    }\n",
       "\n",
       "    .dataframe tbody tr th {\n",
       "        vertical-align: top;\n",
       "    }\n",
       "\n",
       "    .dataframe thead th {\n",
       "        text-align: right;\n",
       "    }\n",
       "</style>\n",
       "<table border=\"1\" class=\"dataframe\">\n",
       "  <thead>\n",
       "    <tr style=\"text-align: right;\">\n",
       "      <th></th>\n",
       "      <th>location</th>\n",
       "      <th>Year</th>\n",
       "      <th>Month</th>\n",
       "      <th>Tmax</th>\n",
       "      <th>Tmin</th>\n",
       "      <th>RH</th>\n",
       "      <th>WindSpeed</th>\n",
       "      <th>Rainfall</th>\n",
       "    </tr>\n",
       "  </thead>\n",
       "  <tbody>\n",
       "    <tr>\n",
       "      <th>0</th>\n",
       "      <td>0.131823</td>\n",
       "      <td>-1.652271</td>\n",
       "      <td>-1.557831</td>\n",
       "      <td>-2.329570</td>\n",
       "      <td>-1.497988</td>\n",
       "      <td>-0.761562</td>\n",
       "      <td>-1.456169</td>\n",
       "      <td>-0.956155</td>\n",
       "    </tr>\n",
       "    <tr>\n",
       "      <th>1</th>\n",
       "      <td>0.131823</td>\n",
       "      <td>-1.652271</td>\n",
       "      <td>-1.274388</td>\n",
       "      <td>-2.110319</td>\n",
       "      <td>-1.145336</td>\n",
       "      <td>-0.761562</td>\n",
       "      <td>-0.788486</td>\n",
       "      <td>-0.956155</td>\n",
       "    </tr>\n",
       "    <tr>\n",
       "      <th>2</th>\n",
       "      <td>0.131823</td>\n",
       "      <td>-1.652271</td>\n",
       "      <td>-0.990945</td>\n",
       "      <td>-1.332977</td>\n",
       "      <td>-0.851459</td>\n",
       "      <td>-0.323422</td>\n",
       "      <td>-0.788486</td>\n",
       "      <td>-0.804841</td>\n",
       "    </tr>\n",
       "    <tr>\n",
       "      <th>3</th>\n",
       "      <td>0.131823</td>\n",
       "      <td>-1.652271</td>\n",
       "      <td>-0.707502</td>\n",
       "      <td>-0.316452</td>\n",
       "      <td>-0.160848</td>\n",
       "      <td>0.552859</td>\n",
       "      <td>-1.045287</td>\n",
       "      <td>-0.634269</td>\n",
       "    </tr>\n",
       "    <tr>\n",
       "      <th>4</th>\n",
       "      <td>0.131823</td>\n",
       "      <td>-1.652271</td>\n",
       "      <td>-0.424059</td>\n",
       "      <td>0.261572</td>\n",
       "      <td>0.059560</td>\n",
       "      <td>0.552859</td>\n",
       "      <td>-1.507530</td>\n",
       "      <td>0.397418</td>\n",
       "    </tr>\n",
       "  </tbody>\n",
       "</table>\n",
       "</div>"
      ],
      "text/plain": [
       "   location      Year     Month      Tmax      Tmin        RH  WindSpeed  \\\n",
       "0  0.131823 -1.652271 -1.557831 -2.329570 -1.497988 -0.761562  -1.456169   \n",
       "1  0.131823 -1.652271 -1.274388 -2.110319 -1.145336 -0.761562  -0.788486   \n",
       "2  0.131823 -1.652271 -0.990945 -1.332977 -0.851459 -0.323422  -0.788486   \n",
       "3  0.131823 -1.652271 -0.707502 -0.316452 -0.160848  0.552859  -1.045287   \n",
       "4  0.131823 -1.652271 -0.424059  0.261572  0.059560  0.552859  -1.507530   \n",
       "\n",
       "   Rainfall  \n",
       "0 -0.956155  \n",
       "1 -0.956155  \n",
       "2 -0.804841  \n",
       "3 -0.634269  \n",
       "4  0.397418  "
      ]
     },
     "execution_count": 35,
     "metadata": {},
     "output_type": "execute_result"
    }
   ],
   "source": [
    "from sklearn.preprocessing import StandardScaler\n",
    "sc = StandardScaler()\n",
    "scaled_data = sc.fit_transform(df4)\n",
    "df5 = pd.DataFrame(data=scaled_data,columns=df4.columns)\n",
    "df5.head()"
   ]
  },
  {
   "cell_type": "markdown",
   "id": "43a60342",
   "metadata": {},
   "source": [
    "# Model Traning and Testing"
   ]
  },
  {
   "cell_type": "code",
   "execution_count": 36,
   "id": "4923d452",
   "metadata": {},
   "outputs": [
    {
     "data": {
      "text/plain": [
       "location     float64\n",
       "Year         float64\n",
       "Month        float64\n",
       "Tmax         float64\n",
       "Tmin         float64\n",
       "RH           float64\n",
       "WindSpeed    float64\n",
       "Rainfall     float64\n",
       "dtype: object"
      ]
     },
     "execution_count": 36,
     "metadata": {},
     "output_type": "execute_result"
    },
    {
     "data": {
      "text/plain": [
       "location     float64\n",
       "Year         float64\n",
       "Month        float64\n",
       "Tmax         float64\n",
       "Tmin         float64\n",
       "RH           float64\n",
       "WindSpeed    float64\n",
       "Rainfall     float64\n",
       "dtype: object"
      ]
     },
     "execution_count": 36,
     "metadata": {},
     "output_type": "execute_result"
    }
   ],
   "source": [
    "X=df5[['location','Year','Month','Tmax','Tmin','RH', 'WindSpeed']]\n",
    "y=df5['Rainfall']\n",
    "df5.dtypes"
   ]
  },
  {
   "cell_type": "code",
   "execution_count": 37,
   "id": "19b0fa57",
   "metadata": {},
   "outputs": [],
   "source": [
    "from sklearn.model_selection import train_test_split\n",
    "\n",
    "X_train, X_test, y_train, y_test = train_test_split(X,y,test_size=0.25,random_state=5, shuffle=True)"
   ]
  },
  {
   "cell_type": "code",
   "execution_count": 38,
   "id": "e73641b2",
   "metadata": {},
   "outputs": [
    {
     "data": {
      "text/plain": [
       "location     1826\n",
       "Year         1826\n",
       "Month        1826\n",
       "Tmax         1826\n",
       "Tmin         1826\n",
       "RH           1826\n",
       "WindSpeed    1826\n",
       "dtype: int64"
      ]
     },
     "execution_count": 38,
     "metadata": {},
     "output_type": "execute_result"
    },
    {
     "data": {
      "text/plain": [
       "location     1826\n",
       "Year         1826\n",
       "Month        1826\n",
       "Tmax         1826\n",
       "Tmin         1826\n",
       "RH           1826\n",
       "WindSpeed    1826\n",
       "dtype: int64"
      ]
     },
     "execution_count": 38,
     "metadata": {},
     "output_type": "execute_result"
    }
   ],
   "source": [
    "X_train.count()"
   ]
  },
  {
   "cell_type": "code",
   "execution_count": 39,
   "id": "56a62097",
   "metadata": {},
   "outputs": [
    {
     "data": {
      "text/plain": [
       "location     609\n",
       "Year         609\n",
       "Month        609\n",
       "Tmax         609\n",
       "Tmin         609\n",
       "RH           609\n",
       "WindSpeed    609\n",
       "dtype: int64"
      ]
     },
     "execution_count": 39,
     "metadata": {},
     "output_type": "execute_result"
    },
    {
     "data": {
      "text/plain": [
       "location     609\n",
       "Year         609\n",
       "Month        609\n",
       "Tmax         609\n",
       "Tmin         609\n",
       "RH           609\n",
       "WindSpeed    609\n",
       "dtype: int64"
      ]
     },
     "execution_count": 39,
     "metadata": {},
     "output_type": "execute_result"
    }
   ],
   "source": [
    "X_test.count()"
   ]
  },
  {
   "cell_type": "code",
   "execution_count": 40,
   "id": "d2fb6f4d",
   "metadata": {},
   "outputs": [
    {
     "data": {
      "text/plain": [
       "1826"
      ]
     },
     "execution_count": 40,
     "metadata": {},
     "output_type": "execute_result"
    },
    {
     "data": {
      "text/plain": [
       "1826"
      ]
     },
     "execution_count": 40,
     "metadata": {},
     "output_type": "execute_result"
    }
   ],
   "source": [
    "y_train.count()"
   ]
  },
  {
   "cell_type": "code",
   "execution_count": 41,
   "id": "bfda1bb4",
   "metadata": {},
   "outputs": [
    {
     "data": {
      "text/plain": [
       "609"
      ]
     },
     "execution_count": 41,
     "metadata": {},
     "output_type": "execute_result"
    },
    {
     "data": {
      "text/plain": [
       "609"
      ]
     },
     "execution_count": 41,
     "metadata": {},
     "output_type": "execute_result"
    }
   ],
   "source": [
    "y_test.count()"
   ]
  },
  {
   "cell_type": "markdown",
   "id": "a6c64912",
   "metadata": {},
   "source": [
    "#### Linear Regression "
   ]
  },
  {
   "cell_type": "code",
   "execution_count": 42,
   "id": "ebcd004d",
   "metadata": {},
   "outputs": [],
   "source": [
    "from sklearn.linear_model import LinearRegression\n",
    "model = LinearRegression()"
   ]
  },
  {
   "cell_type": "code",
   "execution_count": 43,
   "id": "cdeeddf8",
   "metadata": {},
   "outputs": [
    {
     "data": {
      "text/plain": [
       "LinearRegression()"
      ]
     },
     "execution_count": 43,
     "metadata": {},
     "output_type": "execute_result"
    },
    {
     "data": {
      "text/plain": [
       "LinearRegression()"
      ]
     },
     "execution_count": 43,
     "metadata": {},
     "output_type": "execute_result"
    }
   ],
   "source": [
    "model.fit(X_train, y_train)"
   ]
  },
  {
   "cell_type": "code",
   "execution_count": 44,
   "id": "95dcb04e",
   "metadata": {},
   "outputs": [
    {
     "data": {
      "text/plain": [
       "0.4633283514334373"
      ]
     },
     "execution_count": 44,
     "metadata": {},
     "output_type": "execute_result"
    },
    {
     "data": {
      "text/plain": [
       "0.4633283514334373"
      ]
     },
     "execution_count": 44,
     "metadata": {},
     "output_type": "execute_result"
    }
   ],
   "source": [
    "model.score(X_train,y_train) "
   ]
  },
  {
   "cell_type": "code",
   "execution_count": 45,
   "id": "748f1f85",
   "metadata": {},
   "outputs": [
    {
     "data": {
      "text/plain": [
       "0.4842880092962376"
      ]
     },
     "execution_count": 45,
     "metadata": {},
     "output_type": "execute_result"
    },
    {
     "data": {
      "text/plain": [
       "0.4842880092962376"
      ]
     },
     "execution_count": 45,
     "metadata": {},
     "output_type": "execute_result"
    }
   ],
   "source": [
    "model.score(X_test,y_test) "
   ]
  },
  {
   "cell_type": "markdown",
   "id": "b4e0120a",
   "metadata": {},
   "source": [
    "#### Decision Tree Algorithem"
   ]
  },
  {
   "cell_type": "code",
   "execution_count": 46,
   "id": "3727cbba",
   "metadata": {},
   "outputs": [
    {
     "data": {
      "text/plain": [
       "DecisionTreeRegressor(max_depth=6)"
      ]
     },
     "execution_count": 46,
     "metadata": {},
     "output_type": "execute_result"
    },
    {
     "data": {
      "text/plain": [
       "DecisionTreeRegressor(max_depth=6)"
      ]
     },
     "execution_count": 46,
     "metadata": {},
     "output_type": "execute_result"
    }
   ],
   "source": [
    "from sklearn.tree import DecisionTreeRegressor\n",
    "model_decision = DecisionTreeRegressor(max_depth=6)\n",
    "model_decision.fit(X_train, y_train)"
   ]
  },
  {
   "cell_type": "code",
   "execution_count": 47,
   "id": "51c3bfe6",
   "metadata": {},
   "outputs": [],
   "source": [
    "y_pred=model_decision.predict(X_test)"
   ]
  },
  {
   "cell_type": "code",
   "execution_count": 48,
   "id": "1a7ecdbd",
   "metadata": {},
   "outputs": [
    {
     "name": "stdout",
     "output_type": "stream",
     "text": [
      "Train set accuracy:  0.7025907535167996\n",
      "Test set accuracy :  0.614152059093592\n",
      "MSE: 0.3958423721953649\n",
      "RMSE:  0.6291600529240273\n",
      "Train set accuracy:  0.7025907535167996\n",
      "Test set accuracy :  0.614152059093592\n",
      "MSE: 0.3958423721953649\n",
      "RMSE:  0.6291600529240273\n"
     ]
    }
   ],
   "source": [
    "y_train_predicted = model_decision.predict(X_train)\n",
    "y_test_predicted = model_decision.predict(X_test)\n",
    "print(\"Train set accuracy: \",r2_score(y_train,y_train_predicted))\n",
    "print(\"Test set accuracy : \",r2_score(y_test,y_test_predicted))\n",
    "print(\"MSE:\",mean_squared_error(y_test,y_test_predicted))\n",
    "print('RMSE: ',np.sqrt(mean_squared_error(y_test,y_test_predicted))) "
   ]
  },
  {
   "cell_type": "code",
   "execution_count": 49,
   "id": "db4d2c33",
   "metadata": {},
   "outputs": [
    {
     "data": {
      "text/html": [
       "<div>\n",
       "<style scoped>\n",
       "    .dataframe tbody tr th:only-of-type {\n",
       "        vertical-align: middle;\n",
       "    }\n",
       "\n",
       "    .dataframe tbody tr th {\n",
       "        vertical-align: top;\n",
       "    }\n",
       "\n",
       "    .dataframe thead th {\n",
       "        text-align: right;\n",
       "    }\n",
       "</style>\n",
       "<table border=\"1\" class=\"dataframe\">\n",
       "  <thead>\n",
       "    <tr style=\"text-align: right;\">\n",
       "      <th></th>\n",
       "      <th>Actual</th>\n",
       "      <th>Predicted</th>\n",
       "    </tr>\n",
       "  </thead>\n",
       "  <tbody>\n",
       "    <tr>\n",
       "      <th>2239</th>\n",
       "      <td>1.214513</td>\n",
       "      <td>0.887855</td>\n",
       "    </tr>\n",
       "    <tr>\n",
       "      <th>437</th>\n",
       "      <td>-0.320636</td>\n",
       "      <td>0.074431</td>\n",
       "    </tr>\n",
       "    <tr>\n",
       "      <th>1277</th>\n",
       "      <td>-0.147313</td>\n",
       "      <td>-0.790168</td>\n",
       "    </tr>\n",
       "    <tr>\n",
       "      <th>824</th>\n",
       "      <td>-0.726433</td>\n",
       "      <td>-0.571170</td>\n",
       "    </tr>\n",
       "    <tr>\n",
       "      <th>1745</th>\n",
       "      <td>2.072877</td>\n",
       "      <td>1.537606</td>\n",
       "    </tr>\n",
       "    <tr>\n",
       "      <th>687</th>\n",
       "      <td>-0.956155</td>\n",
       "      <td>-0.842386</td>\n",
       "    </tr>\n",
       "    <tr>\n",
       "      <th>1723</th>\n",
       "      <td>0.518469</td>\n",
       "      <td>0.932290</td>\n",
       "    </tr>\n",
       "    <tr>\n",
       "      <th>1476</th>\n",
       "      <td>-0.367406</td>\n",
       "      <td>0.731635</td>\n",
       "    </tr>\n",
       "    <tr>\n",
       "      <th>1235</th>\n",
       "      <td>-0.019384</td>\n",
       "      <td>0.019933</td>\n",
       "    </tr>\n",
       "    <tr>\n",
       "      <th>1467</th>\n",
       "      <td>1.023308</td>\n",
       "      <td>1.378671</td>\n",
       "    </tr>\n",
       "  </tbody>\n",
       "</table>\n",
       "</div>"
      ],
      "text/plain": [
       "        Actual  Predicted\n",
       "2239  1.214513   0.887855\n",
       "437  -0.320636   0.074431\n",
       "1277 -0.147313  -0.790168\n",
       "824  -0.726433  -0.571170\n",
       "1745  2.072877   1.537606\n",
       "687  -0.956155  -0.842386\n",
       "1723  0.518469   0.932290\n",
       "1476 -0.367406   0.731635\n",
       "1235 -0.019384   0.019933\n",
       "1467  1.023308   1.378671"
      ]
     },
     "execution_count": 49,
     "metadata": {},
     "output_type": "execute_result"
    },
    {
     "data": {
      "text/html": [
       "<div>\n",
       "<style scoped>\n",
       "    .dataframe tbody tr th:only-of-type {\n",
       "        vertical-align: middle;\n",
       "    }\n",
       "\n",
       "    .dataframe tbody tr th {\n",
       "        vertical-align: top;\n",
       "    }\n",
       "\n",
       "    .dataframe thead th {\n",
       "        text-align: right;\n",
       "    }\n",
       "</style>\n",
       "<table border=\"1\" class=\"dataframe\">\n",
       "  <thead>\n",
       "    <tr style=\"text-align: right;\">\n",
       "      <th></th>\n",
       "      <th>Actual</th>\n",
       "      <th>Predicted</th>\n",
       "    </tr>\n",
       "  </thead>\n",
       "  <tbody>\n",
       "    <tr>\n",
       "      <th>2239</th>\n",
       "      <td>1.214513</td>\n",
       "      <td>0.887855</td>\n",
       "    </tr>\n",
       "    <tr>\n",
       "      <th>437</th>\n",
       "      <td>-0.320636</td>\n",
       "      <td>0.074431</td>\n",
       "    </tr>\n",
       "    <tr>\n",
       "      <th>1277</th>\n",
       "      <td>-0.147313</td>\n",
       "      <td>-0.790168</td>\n",
       "    </tr>\n",
       "    <tr>\n",
       "      <th>824</th>\n",
       "      <td>-0.726433</td>\n",
       "      <td>-0.571170</td>\n",
       "    </tr>\n",
       "    <tr>\n",
       "      <th>1745</th>\n",
       "      <td>2.072877</td>\n",
       "      <td>1.537606</td>\n",
       "    </tr>\n",
       "    <tr>\n",
       "      <th>687</th>\n",
       "      <td>-0.956155</td>\n",
       "      <td>-0.842386</td>\n",
       "    </tr>\n",
       "    <tr>\n",
       "      <th>1723</th>\n",
       "      <td>0.518469</td>\n",
       "      <td>0.932290</td>\n",
       "    </tr>\n",
       "    <tr>\n",
       "      <th>1476</th>\n",
       "      <td>-0.367406</td>\n",
       "      <td>0.731635</td>\n",
       "    </tr>\n",
       "    <tr>\n",
       "      <th>1235</th>\n",
       "      <td>-0.019384</td>\n",
       "      <td>0.019933</td>\n",
       "    </tr>\n",
       "    <tr>\n",
       "      <th>1467</th>\n",
       "      <td>1.023308</td>\n",
       "      <td>1.378671</td>\n",
       "    </tr>\n",
       "  </tbody>\n",
       "</table>\n",
       "</div>"
      ],
      "text/plain": [
       "        Actual  Predicted\n",
       "2239  1.214513   0.887855\n",
       "437  -0.320636   0.074431\n",
       "1277 -0.147313  -0.790168\n",
       "824  -0.726433  -0.571170\n",
       "1745  2.072877   1.537606\n",
       "687  -0.956155  -0.842386\n",
       "1723  0.518469   0.932290\n",
       "1476 -0.367406   0.731635\n",
       "1235 -0.019384   0.019933\n",
       "1467  1.023308   1.378671"
      ]
     },
     "execution_count": 49,
     "metadata": {},
     "output_type": "execute_result"
    }
   ],
   "source": [
    "result = pd.DataFrame({'Actual':y_test,'Predicted':y_pred})\n",
    "result.head(10)"
   ]
  },
  {
   "cell_type": "markdown",
   "id": "68aab615",
   "metadata": {},
   "source": [
    "### KNN Algorithm"
   ]
  },
  {
   "cell_type": "code",
   "execution_count": 50,
   "id": "560a4f23",
   "metadata": {},
   "outputs": [
    {
     "data": {
      "text/plain": [
       "KNeighborsRegressor(n_neighbors=3)"
      ]
     },
     "execution_count": 50,
     "metadata": {},
     "output_type": "execute_result"
    },
    {
     "data": {
      "text/plain": [
       "KNeighborsRegressor(n_neighbors=3)"
      ]
     },
     "execution_count": 50,
     "metadata": {},
     "output_type": "execute_result"
    }
   ],
   "source": [
    "from sklearn.neighbors import KNeighborsRegressor\n",
    "model_KNNR = KNeighborsRegressor(3)\n",
    "model_KNNR.fit(X_train,y_train)"
   ]
  },
  {
   "cell_type": "code",
   "execution_count": 51,
   "id": "06f29863",
   "metadata": {},
   "outputs": [],
   "source": [
    "y1_pred = model_KNNR.predict(X_test)"
   ]
  },
  {
   "cell_type": "code",
   "execution_count": 52,
   "id": "56e1e680",
   "metadata": {},
   "outputs": [
    {
     "name": "stdout",
     "output_type": "stream",
     "text": [
      "Train set accuracy:  0.7995501426530254\n",
      "Test set accuracy :  0.6199653602191221\n",
      "MSE: 0.389878491962105\n",
      "RMSE:  0.6244025079723055\n",
      "Train set accuracy:  0.7995501426530254\n",
      "Test set accuracy :  0.6199653602191221\n",
      "MSE: 0.389878491962105\n",
      "RMSE:  0.6244025079723055\n"
     ]
    }
   ],
   "source": [
    "y_train_predicted = model_KNNR.predict(X_train)\n",
    "y_test_predicted = model_KNNR.predict(X_test)\n",
    "\n",
    "print(\"Train set accuracy: \",r2_score(y_train,y_train_predicted))\n",
    "\n",
    "print(\"Test set accuracy : \",r2_score(y_test,y_test_predicted))\n",
    "\n",
    "print(\"MSE:\",mean_squared_error(y_test,y_test_predicted))\n",
    "\n",
    "print('RMSE: ',np.sqrt(mean_squared_error(y_test,y_test_predicted))) "
   ]
  },
  {
   "cell_type": "code",
   "execution_count": 53,
   "id": "88223fe0",
   "metadata": {},
   "outputs": [
    {
     "data": {
      "text/html": [
       "<div>\n",
       "<style scoped>\n",
       "    .dataframe tbody tr th:only-of-type {\n",
       "        vertical-align: middle;\n",
       "    }\n",
       "\n",
       "    .dataframe tbody tr th {\n",
       "        vertical-align: top;\n",
       "    }\n",
       "\n",
       "    .dataframe thead th {\n",
       "        text-align: right;\n",
       "    }\n",
       "</style>\n",
       "<table border=\"1\" class=\"dataframe\">\n",
       "  <thead>\n",
       "    <tr style=\"text-align: right;\">\n",
       "      <th></th>\n",
       "      <th>Actual</th>\n",
       "      <th>Predicted</th>\n",
       "    </tr>\n",
       "  </thead>\n",
       "  <tbody>\n",
       "    <tr>\n",
       "      <th>2239</th>\n",
       "      <td>1.214513</td>\n",
       "      <td>1.396549</td>\n",
       "    </tr>\n",
       "    <tr>\n",
       "      <th>437</th>\n",
       "      <td>-0.320636</td>\n",
       "      <td>-0.449941</td>\n",
       "    </tr>\n",
       "    <tr>\n",
       "      <th>1277</th>\n",
       "      <td>-0.147313</td>\n",
       "      <td>-0.437560</td>\n",
       "    </tr>\n",
       "    <tr>\n",
       "      <th>824</th>\n",
       "      <td>-0.726433</td>\n",
       "      <td>-0.694336</td>\n",
       "    </tr>\n",
       "    <tr>\n",
       "      <th>1745</th>\n",
       "      <td>2.072877</td>\n",
       "      <td>1.026976</td>\n",
       "    </tr>\n",
       "    <tr>\n",
       "      <th>687</th>\n",
       "      <td>-0.956155</td>\n",
       "      <td>-0.923599</td>\n",
       "    </tr>\n",
       "    <tr>\n",
       "      <th>1723</th>\n",
       "      <td>0.518469</td>\n",
       "      <td>0.493709</td>\n",
       "    </tr>\n",
       "    <tr>\n",
       "      <th>1476</th>\n",
       "      <td>-0.367406</td>\n",
       "      <td>-0.393542</td>\n",
       "    </tr>\n",
       "    <tr>\n",
       "      <th>1235</th>\n",
       "      <td>-0.019384</td>\n",
       "      <td>0.308005</td>\n",
       "    </tr>\n",
       "    <tr>\n",
       "      <th>1467</th>\n",
       "      <td>1.023308</td>\n",
       "      <td>1.460284</td>\n",
       "    </tr>\n",
       "  </tbody>\n",
       "</table>\n",
       "</div>"
      ],
      "text/plain": [
       "        Actual  Predicted\n",
       "2239  1.214513   1.396549\n",
       "437  -0.320636  -0.449941\n",
       "1277 -0.147313  -0.437560\n",
       "824  -0.726433  -0.694336\n",
       "1745  2.072877   1.026976\n",
       "687  -0.956155  -0.923599\n",
       "1723  0.518469   0.493709\n",
       "1476 -0.367406  -0.393542\n",
       "1235 -0.019384   0.308005\n",
       "1467  1.023308   1.460284"
      ]
     },
     "execution_count": 53,
     "metadata": {},
     "output_type": "execute_result"
    },
    {
     "data": {
      "text/html": [
       "<div>\n",
       "<style scoped>\n",
       "    .dataframe tbody tr th:only-of-type {\n",
       "        vertical-align: middle;\n",
       "    }\n",
       "\n",
       "    .dataframe tbody tr th {\n",
       "        vertical-align: top;\n",
       "    }\n",
       "\n",
       "    .dataframe thead th {\n",
       "        text-align: right;\n",
       "    }\n",
       "</style>\n",
       "<table border=\"1\" class=\"dataframe\">\n",
       "  <thead>\n",
       "    <tr style=\"text-align: right;\">\n",
       "      <th></th>\n",
       "      <th>Actual</th>\n",
       "      <th>Predicted</th>\n",
       "    </tr>\n",
       "  </thead>\n",
       "  <tbody>\n",
       "    <tr>\n",
       "      <th>2239</th>\n",
       "      <td>1.214513</td>\n",
       "      <td>1.396549</td>\n",
       "    </tr>\n",
       "    <tr>\n",
       "      <th>437</th>\n",
       "      <td>-0.320636</td>\n",
       "      <td>-0.449941</td>\n",
       "    </tr>\n",
       "    <tr>\n",
       "      <th>1277</th>\n",
       "      <td>-0.147313</td>\n",
       "      <td>-0.437560</td>\n",
       "    </tr>\n",
       "    <tr>\n",
       "      <th>824</th>\n",
       "      <td>-0.726433</td>\n",
       "      <td>-0.694336</td>\n",
       "    </tr>\n",
       "    <tr>\n",
       "      <th>1745</th>\n",
       "      <td>2.072877</td>\n",
       "      <td>1.026976</td>\n",
       "    </tr>\n",
       "    <tr>\n",
       "      <th>687</th>\n",
       "      <td>-0.956155</td>\n",
       "      <td>-0.923599</td>\n",
       "    </tr>\n",
       "    <tr>\n",
       "      <th>1723</th>\n",
       "      <td>0.518469</td>\n",
       "      <td>0.493709</td>\n",
       "    </tr>\n",
       "    <tr>\n",
       "      <th>1476</th>\n",
       "      <td>-0.367406</td>\n",
       "      <td>-0.393542</td>\n",
       "    </tr>\n",
       "    <tr>\n",
       "      <th>1235</th>\n",
       "      <td>-0.019384</td>\n",
       "      <td>0.308005</td>\n",
       "    </tr>\n",
       "    <tr>\n",
       "      <th>1467</th>\n",
       "      <td>1.023308</td>\n",
       "      <td>1.460284</td>\n",
       "    </tr>\n",
       "  </tbody>\n",
       "</table>\n",
       "</div>"
      ],
      "text/plain": [
       "        Actual  Predicted\n",
       "2239  1.214513   1.396549\n",
       "437  -0.320636  -0.449941\n",
       "1277 -0.147313  -0.437560\n",
       "824  -0.726433  -0.694336\n",
       "1745  2.072877   1.026976\n",
       "687  -0.956155  -0.923599\n",
       "1723  0.518469   0.493709\n",
       "1476 -0.367406  -0.393542\n",
       "1235 -0.019384   0.308005\n",
       "1467  1.023308   1.460284"
      ]
     },
     "execution_count": 53,
     "metadata": {},
     "output_type": "execute_result"
    }
   ],
   "source": [
    "result = pd.DataFrame({'Actual':y_test,'Predicted':y1_pred})\n",
    "result.head(10)"
   ]
  },
  {
   "cell_type": "markdown",
   "id": "f6691ab7",
   "metadata": {},
   "source": [
    "## Using Pipeline"
   ]
  },
  {
   "cell_type": "code",
   "execution_count": 54,
   "id": "8bb56166",
   "metadata": {},
   "outputs": [
    {
     "name": "stdout",
     "output_type": "stream",
     "text": [
      "Index(['location', 'Year', 'Month', 'Tmax', 'Tmin', 'RH', 'WindSpeed'], dtype='object')\n",
      "Index(['location', 'Year', 'Month', 'Tmax', 'Tmin', 'RH', 'WindSpeed'], dtype='object')\n"
     ]
    }
   ],
   "source": [
    "numeric_cols = X.select_dtypes(include=['int64', 'float64', 'int32']).columns\n",
    "print(numeric_cols)\n",
    "\n"
   ]
  },
  {
   "cell_type": "code",
   "execution_count": 55,
   "id": "f5ac0804",
   "metadata": {},
   "outputs": [
    {
     "data": {
      "text/plain": [
       "[0, 1, 2, 3, 4, 5, 6]"
      ]
     },
     "execution_count": 55,
     "metadata": {},
     "output_type": "execute_result"
    },
    {
     "data": {
      "text/plain": [
       "[0, 1, 2, 3, 4, 5, 6]"
      ]
     },
     "execution_count": 55,
     "metadata": {},
     "output_type": "execute_result"
    }
   ],
   "source": [
    "n_index = [X.columns.get_loc(col) for col in numeric_cols]\n",
    "n_index"
   ]
  },
  {
   "cell_type": "code",
   "execution_count": 56,
   "id": "10bd7edb",
   "metadata": {},
   "outputs": [],
   "source": [
    "from sklearn.pipeline import Pipeline\n",
    "from sklearn.impute import SimpleImputer\n",
    "from sklearn.preprocessing import MinMaxScaler, OneHotEncoder, OrdinalEncoder, StandardScaler"
   ]
  },
  {
   "cell_type": "code",
   "execution_count": 57,
   "id": "d9cac651",
   "metadata": {},
   "outputs": [],
   "source": [
    "numeric_transformer = Pipeline(steps = [\n",
    "    ('imputerN',SimpleImputer(strategy='median')), \n",
    "    ('scaler',StandardScaler()) \n",
    "] )\n"
   ]
  },
  {
   "cell_type": "code",
   "execution_count": 58,
   "id": "223a6592",
   "metadata": {},
   "outputs": [],
   "source": [
    "from sklearn.compose import ColumnTransformer\n",
    "\n",
    "preprocessor = ColumnTransformer(transformers = [\n",
    "                ('numerical',numeric_transformer,n_index),\n",
    "                \n",
    "])"
   ]
  },
  {
   "cell_type": "code",
   "execution_count": 59,
   "id": "e69127c1",
   "metadata": {},
   "outputs": [],
   "source": [
    "\n",
    "from sklearn.neighbors import KNeighborsRegressor\n",
    "model = KNeighborsRegressor(n_neighbors = 5)"
   ]
  },
  {
   "cell_type": "code",
   "execution_count": 60,
   "id": "4b404f3e",
   "metadata": {},
   "outputs": [],
   "source": [
    "#from sklearn.tree import DecisionTreeRegressor\n",
    "#model= DecisionTreeRegressor(max_depth =7)"
   ]
  },
  {
   "cell_type": "code",
   "execution_count": 61,
   "id": "e4e6fc1b",
   "metadata": {},
   "outputs": [],
   "source": [
    "#from sklearn.linear_model import LinearRegression\n",
    "#model = LinearRegression() "
   ]
  },
  {
   "cell_type": "code",
   "execution_count": 62,
   "id": "a9a82169",
   "metadata": {},
   "outputs": [],
   "source": [
    "#from sklearn.svm import SVR\n",
    "#model = SVR() "
   ]
  },
  {
   "cell_type": "code",
   "execution_count": 63,
   "id": "c60e590d",
   "metadata": {},
   "outputs": [],
   "source": [
    "pipelinemodel = Pipeline(\n",
    "    steps = [\n",
    "      ('preprocessor', preprocessor), #Preprocessing\n",
    "      ('est', model)  #Model\n",
    "    ]\n",
    ")"
   ]
  },
  {
   "cell_type": "code",
   "execution_count": 64,
   "id": "0f5f2bc9",
   "metadata": {},
   "outputs": [
    {
     "data": {
      "text/html": [
       "<style>#sk-9acbb4a7-5693-44ac-8036-f4f7e5f3f6b0 {color: black;background-color: white;}#sk-9acbb4a7-5693-44ac-8036-f4f7e5f3f6b0 pre{padding: 0;}#sk-9acbb4a7-5693-44ac-8036-f4f7e5f3f6b0 div.sk-toggleable {background-color: white;}#sk-9acbb4a7-5693-44ac-8036-f4f7e5f3f6b0 label.sk-toggleable__label {cursor: pointer;display: block;width: 100%;margin-bottom: 0;padding: 0.2em 0.3em;box-sizing: border-box;text-align: center;}#sk-9acbb4a7-5693-44ac-8036-f4f7e5f3f6b0 div.sk-toggleable__content {max-height: 0;max-width: 0;overflow: hidden;text-align: left;background-color: #f0f8ff;}#sk-9acbb4a7-5693-44ac-8036-f4f7e5f3f6b0 div.sk-toggleable__content pre {margin: 0.2em;color: black;border-radius: 0.25em;background-color: #f0f8ff;}#sk-9acbb4a7-5693-44ac-8036-f4f7e5f3f6b0 input.sk-toggleable__control:checked~div.sk-toggleable__content {max-height: 200px;max-width: 100%;overflow: auto;}#sk-9acbb4a7-5693-44ac-8036-f4f7e5f3f6b0 div.sk-estimator input.sk-toggleable__control:checked~label.sk-toggleable__label {background-color: #d4ebff;}#sk-9acbb4a7-5693-44ac-8036-f4f7e5f3f6b0 div.sk-label input.sk-toggleable__control:checked~label.sk-toggleable__label {background-color: #d4ebff;}#sk-9acbb4a7-5693-44ac-8036-f4f7e5f3f6b0 input.sk-hidden--visually {border: 0;clip: rect(1px 1px 1px 1px);clip: rect(1px, 1px, 1px, 1px);height: 1px;margin: -1px;overflow: hidden;padding: 0;position: absolute;width: 1px;}#sk-9acbb4a7-5693-44ac-8036-f4f7e5f3f6b0 div.sk-estimator {font-family: monospace;background-color: #f0f8ff;margin: 0.25em 0.25em;border: 1px dotted black;border-radius: 0.25em;box-sizing: border-box;}#sk-9acbb4a7-5693-44ac-8036-f4f7e5f3f6b0 div.sk-estimator:hover {background-color: #d4ebff;}#sk-9acbb4a7-5693-44ac-8036-f4f7e5f3f6b0 div.sk-parallel-item::after {content: \"\";width: 100%;border-bottom: 1px solid gray;flex-grow: 1;}#sk-9acbb4a7-5693-44ac-8036-f4f7e5f3f6b0 div.sk-label:hover label.sk-toggleable__label {background-color: #d4ebff;}#sk-9acbb4a7-5693-44ac-8036-f4f7e5f3f6b0 div.sk-serial::before {content: \"\";position: absolute;border-left: 1px solid gray;box-sizing: border-box;top: 2em;bottom: 0;left: 50%;}#sk-9acbb4a7-5693-44ac-8036-f4f7e5f3f6b0 div.sk-serial {display: flex;flex-direction: column;align-items: center;background-color: white;}#sk-9acbb4a7-5693-44ac-8036-f4f7e5f3f6b0 div.sk-item {z-index: 1;}#sk-9acbb4a7-5693-44ac-8036-f4f7e5f3f6b0 div.sk-parallel {display: flex;align-items: stretch;justify-content: center;background-color: white;}#sk-9acbb4a7-5693-44ac-8036-f4f7e5f3f6b0 div.sk-parallel-item {display: flex;flex-direction: column;position: relative;background-color: white;}#sk-9acbb4a7-5693-44ac-8036-f4f7e5f3f6b0 div.sk-parallel-item:first-child::after {align-self: flex-end;width: 50%;}#sk-9acbb4a7-5693-44ac-8036-f4f7e5f3f6b0 div.sk-parallel-item:last-child::after {align-self: flex-start;width: 50%;}#sk-9acbb4a7-5693-44ac-8036-f4f7e5f3f6b0 div.sk-parallel-item:only-child::after {width: 0;}#sk-9acbb4a7-5693-44ac-8036-f4f7e5f3f6b0 div.sk-dashed-wrapped {border: 1px dashed gray;margin: 0.2em;box-sizing: border-box;padding-bottom: 0.1em;background-color: white;position: relative;}#sk-9acbb4a7-5693-44ac-8036-f4f7e5f3f6b0 div.sk-label label {font-family: monospace;font-weight: bold;background-color: white;display: inline-block;line-height: 1.2em;}#sk-9acbb4a7-5693-44ac-8036-f4f7e5f3f6b0 div.sk-label-container {position: relative;z-index: 2;text-align: center;}#sk-9acbb4a7-5693-44ac-8036-f4f7e5f3f6b0 div.sk-container {display: inline-block;position: relative;}</style><div id=\"sk-9acbb4a7-5693-44ac-8036-f4f7e5f3f6b0\" class\"sk-top-container\"><div class=\"sk-container\"><div class=\"sk-item sk-dashed-wrapped\"><div class=\"sk-label-container\"><div class=\"sk-label sk-toggleable\"><input class=\"sk-toggleable__control sk-hidden--visually\" id=\"85dac392-f4fd-40b8-ab1c-90075d976dcf\" type=\"checkbox\" ><label class=\"sk-toggleable__label\" for=\"85dac392-f4fd-40b8-ab1c-90075d976dcf\">Pipeline</label><div class=\"sk-toggleable__content\"><pre>Pipeline(steps=[('preprocessor',\n",
       "                 ColumnTransformer(transformers=[('numerical',\n",
       "                                                  Pipeline(steps=[('imputerN',\n",
       "                                                                   SimpleImputer(strategy='median')),\n",
       "                                                                  ('scaler',\n",
       "                                                                   StandardScaler())]),\n",
       "                                                  [0, 1, 2, 3, 4, 5, 6])])),\n",
       "                ('est', KNeighborsRegressor())])</pre></div></div></div><div class=\"sk-serial\"><div class=\"sk-item sk-dashed-wrapped\"><div class=\"sk-label-container\"><div class=\"sk-label sk-toggleable\"><input class=\"sk-toggleable__control sk-hidden--visually\" id=\"029b7bc5-870c-41fa-b165-980187e53240\" type=\"checkbox\" ><label class=\"sk-toggleable__label\" for=\"029b7bc5-870c-41fa-b165-980187e53240\">preprocessor: ColumnTransformer</label><div class=\"sk-toggleable__content\"><pre>ColumnTransformer(transformers=[('numerical',\n",
       "                                 Pipeline(steps=[('imputerN',\n",
       "                                                  SimpleImputer(strategy='median')),\n",
       "                                                 ('scaler', StandardScaler())]),\n",
       "                                 [0, 1, 2, 3, 4, 5, 6])])</pre></div></div></div><div class=\"sk-parallel\"><div class=\"sk-parallel-item\"><div class=\"sk-item\"><div class=\"sk-label-container\"><div class=\"sk-label sk-toggleable\"><input class=\"sk-toggleable__control sk-hidden--visually\" id=\"9f524104-557b-47fa-99cc-bc48ea79023e\" type=\"checkbox\" ><label class=\"sk-toggleable__label\" for=\"9f524104-557b-47fa-99cc-bc48ea79023e\">numerical</label><div class=\"sk-toggleable__content\"><pre>[0, 1, 2, 3, 4, 5, 6]</pre></div></div></div><div class=\"sk-serial\"><div class=\"sk-item\"><div class=\"sk-serial\"><div class=\"sk-item\"><div class=\"sk-estimator sk-toggleable\"><input class=\"sk-toggleable__control sk-hidden--visually\" id=\"1f915b38-1f36-4a75-9d07-a63e6cd795e8\" type=\"checkbox\" ><label class=\"sk-toggleable__label\" for=\"1f915b38-1f36-4a75-9d07-a63e6cd795e8\">SimpleImputer</label><div class=\"sk-toggleable__content\"><pre>SimpleImputer(strategy='median')</pre></div></div></div><div class=\"sk-item\"><div class=\"sk-estimator sk-toggleable\"><input class=\"sk-toggleable__control sk-hidden--visually\" id=\"af1f7c40-1c4d-472b-8660-be63c9977016\" type=\"checkbox\" ><label class=\"sk-toggleable__label\" for=\"af1f7c40-1c4d-472b-8660-be63c9977016\">StandardScaler</label><div class=\"sk-toggleable__content\"><pre>StandardScaler()</pre></div></div></div></div></div></div></div></div></div></div><div class=\"sk-item\"><div class=\"sk-estimator sk-toggleable\"><input class=\"sk-toggleable__control sk-hidden--visually\" id=\"ef93b11d-dea3-48a7-9c42-1a966ffa8db3\" type=\"checkbox\" ><label class=\"sk-toggleable__label\" for=\"ef93b11d-dea3-48a7-9c42-1a966ffa8db3\">KNeighborsRegressor</label><div class=\"sk-toggleable__content\"><pre>KNeighborsRegressor()</pre></div></div></div></div></div></div></div>"
      ],
      "text/plain": [
       "Pipeline(steps=[('preprocessor',\n",
       "                 ColumnTransformer(transformers=[('numerical',\n",
       "                                                  Pipeline(steps=[('imputerN',\n",
       "                                                                   SimpleImputer(strategy='median')),\n",
       "                                                                  ('scaler',\n",
       "                                                                   StandardScaler())]),\n",
       "                                                  [0, 1, 2, 3, 4, 5, 6])])),\n",
       "                ('est', KNeighborsRegressor())])"
      ]
     },
     "execution_count": 64,
     "metadata": {},
     "output_type": "execute_result"
    },
    {
     "data": {
      "text/html": [
       "<style>#sk-9acbb4a7-5693-44ac-8036-f4f7e5f3f6b0 {color: black;background-color: white;}#sk-9acbb4a7-5693-44ac-8036-f4f7e5f3f6b0 pre{padding: 0;}#sk-9acbb4a7-5693-44ac-8036-f4f7e5f3f6b0 div.sk-toggleable {background-color: white;}#sk-9acbb4a7-5693-44ac-8036-f4f7e5f3f6b0 label.sk-toggleable__label {cursor: pointer;display: block;width: 100%;margin-bottom: 0;padding: 0.2em 0.3em;box-sizing: border-box;text-align: center;}#sk-9acbb4a7-5693-44ac-8036-f4f7e5f3f6b0 div.sk-toggleable__content {max-height: 0;max-width: 0;overflow: hidden;text-align: left;background-color: #f0f8ff;}#sk-9acbb4a7-5693-44ac-8036-f4f7e5f3f6b0 div.sk-toggleable__content pre {margin: 0.2em;color: black;border-radius: 0.25em;background-color: #f0f8ff;}#sk-9acbb4a7-5693-44ac-8036-f4f7e5f3f6b0 input.sk-toggleable__control:checked~div.sk-toggleable__content {max-height: 200px;max-width: 100%;overflow: auto;}#sk-9acbb4a7-5693-44ac-8036-f4f7e5f3f6b0 div.sk-estimator input.sk-toggleable__control:checked~label.sk-toggleable__label {background-color: #d4ebff;}#sk-9acbb4a7-5693-44ac-8036-f4f7e5f3f6b0 div.sk-label input.sk-toggleable__control:checked~label.sk-toggleable__label {background-color: #d4ebff;}#sk-9acbb4a7-5693-44ac-8036-f4f7e5f3f6b0 input.sk-hidden--visually {border: 0;clip: rect(1px 1px 1px 1px);clip: rect(1px, 1px, 1px, 1px);height: 1px;margin: -1px;overflow: hidden;padding: 0;position: absolute;width: 1px;}#sk-9acbb4a7-5693-44ac-8036-f4f7e5f3f6b0 div.sk-estimator {font-family: monospace;background-color: #f0f8ff;margin: 0.25em 0.25em;border: 1px dotted black;border-radius: 0.25em;box-sizing: border-box;}#sk-9acbb4a7-5693-44ac-8036-f4f7e5f3f6b0 div.sk-estimator:hover {background-color: #d4ebff;}#sk-9acbb4a7-5693-44ac-8036-f4f7e5f3f6b0 div.sk-parallel-item::after {content: \"\";width: 100%;border-bottom: 1px solid gray;flex-grow: 1;}#sk-9acbb4a7-5693-44ac-8036-f4f7e5f3f6b0 div.sk-label:hover label.sk-toggleable__label {background-color: #d4ebff;}#sk-9acbb4a7-5693-44ac-8036-f4f7e5f3f6b0 div.sk-serial::before {content: \"\";position: absolute;border-left: 1px solid gray;box-sizing: border-box;top: 2em;bottom: 0;left: 50%;}#sk-9acbb4a7-5693-44ac-8036-f4f7e5f3f6b0 div.sk-serial {display: flex;flex-direction: column;align-items: center;background-color: white;}#sk-9acbb4a7-5693-44ac-8036-f4f7e5f3f6b0 div.sk-item {z-index: 1;}#sk-9acbb4a7-5693-44ac-8036-f4f7e5f3f6b0 div.sk-parallel {display: flex;align-items: stretch;justify-content: center;background-color: white;}#sk-9acbb4a7-5693-44ac-8036-f4f7e5f3f6b0 div.sk-parallel-item {display: flex;flex-direction: column;position: relative;background-color: white;}#sk-9acbb4a7-5693-44ac-8036-f4f7e5f3f6b0 div.sk-parallel-item:first-child::after {align-self: flex-end;width: 50%;}#sk-9acbb4a7-5693-44ac-8036-f4f7e5f3f6b0 div.sk-parallel-item:last-child::after {align-self: flex-start;width: 50%;}#sk-9acbb4a7-5693-44ac-8036-f4f7e5f3f6b0 div.sk-parallel-item:only-child::after {width: 0;}#sk-9acbb4a7-5693-44ac-8036-f4f7e5f3f6b0 div.sk-dashed-wrapped {border: 1px dashed gray;margin: 0.2em;box-sizing: border-box;padding-bottom: 0.1em;background-color: white;position: relative;}#sk-9acbb4a7-5693-44ac-8036-f4f7e5f3f6b0 div.sk-label label {font-family: monospace;font-weight: bold;background-color: white;display: inline-block;line-height: 1.2em;}#sk-9acbb4a7-5693-44ac-8036-f4f7e5f3f6b0 div.sk-label-container {position: relative;z-index: 2;text-align: center;}#sk-9acbb4a7-5693-44ac-8036-f4f7e5f3f6b0 div.sk-container {display: inline-block;position: relative;}</style><div id=\"sk-9acbb4a7-5693-44ac-8036-f4f7e5f3f6b0\" class\"sk-top-container\"><div class=\"sk-container\"><div class=\"sk-item sk-dashed-wrapped\"><div class=\"sk-label-container\"><div class=\"sk-label sk-toggleable\"><input class=\"sk-toggleable__control sk-hidden--visually\" id=\"85dac392-f4fd-40b8-ab1c-90075d976dcf\" type=\"checkbox\" ><label class=\"sk-toggleable__label\" for=\"85dac392-f4fd-40b8-ab1c-90075d976dcf\">Pipeline</label><div class=\"sk-toggleable__content\"><pre>Pipeline(steps=[('preprocessor',\n",
       "                 ColumnTransformer(transformers=[('numerical',\n",
       "                                                  Pipeline(steps=[('imputerN',\n",
       "                                                                   SimpleImputer(strategy='median')),\n",
       "                                                                  ('scaler',\n",
       "                                                                   StandardScaler())]),\n",
       "                                                  [0, 1, 2, 3, 4, 5, 6])])),\n",
       "                ('est', KNeighborsRegressor())])</pre></div></div></div><div class=\"sk-serial\"><div class=\"sk-item sk-dashed-wrapped\"><div class=\"sk-label-container\"><div class=\"sk-label sk-toggleable\"><input class=\"sk-toggleable__control sk-hidden--visually\" id=\"029b7bc5-870c-41fa-b165-980187e53240\" type=\"checkbox\" ><label class=\"sk-toggleable__label\" for=\"029b7bc5-870c-41fa-b165-980187e53240\">preprocessor: ColumnTransformer</label><div class=\"sk-toggleable__content\"><pre>ColumnTransformer(transformers=[('numerical',\n",
       "                                 Pipeline(steps=[('imputerN',\n",
       "                                                  SimpleImputer(strategy='median')),\n",
       "                                                 ('scaler', StandardScaler())]),\n",
       "                                 [0, 1, 2, 3, 4, 5, 6])])</pre></div></div></div><div class=\"sk-parallel\"><div class=\"sk-parallel-item\"><div class=\"sk-item\"><div class=\"sk-label-container\"><div class=\"sk-label sk-toggleable\"><input class=\"sk-toggleable__control sk-hidden--visually\" id=\"9f524104-557b-47fa-99cc-bc48ea79023e\" type=\"checkbox\" ><label class=\"sk-toggleable__label\" for=\"9f524104-557b-47fa-99cc-bc48ea79023e\">numerical</label><div class=\"sk-toggleable__content\"><pre>[0, 1, 2, 3, 4, 5, 6]</pre></div></div></div><div class=\"sk-serial\"><div class=\"sk-item\"><div class=\"sk-serial\"><div class=\"sk-item\"><div class=\"sk-estimator sk-toggleable\"><input class=\"sk-toggleable__control sk-hidden--visually\" id=\"1f915b38-1f36-4a75-9d07-a63e6cd795e8\" type=\"checkbox\" ><label class=\"sk-toggleable__label\" for=\"1f915b38-1f36-4a75-9d07-a63e6cd795e8\">SimpleImputer</label><div class=\"sk-toggleable__content\"><pre>SimpleImputer(strategy='median')</pre></div></div></div><div class=\"sk-item\"><div class=\"sk-estimator sk-toggleable\"><input class=\"sk-toggleable__control sk-hidden--visually\" id=\"af1f7c40-1c4d-472b-8660-be63c9977016\" type=\"checkbox\" ><label class=\"sk-toggleable__label\" for=\"af1f7c40-1c4d-472b-8660-be63c9977016\">StandardScaler</label><div class=\"sk-toggleable__content\"><pre>StandardScaler()</pre></div></div></div></div></div></div></div></div></div></div><div class=\"sk-item\"><div class=\"sk-estimator sk-toggleable\"><input class=\"sk-toggleable__control sk-hidden--visually\" id=\"ef93b11d-dea3-48a7-9c42-1a966ffa8db3\" type=\"checkbox\" ><label class=\"sk-toggleable__label\" for=\"ef93b11d-dea3-48a7-9c42-1a966ffa8db3\">KNeighborsRegressor</label><div class=\"sk-toggleable__content\"><pre>KNeighborsRegressor()</pre></div></div></div></div></div></div></div>"
      ],
      "text/plain": [
       "Pipeline(steps=[('preprocessor',\n",
       "                 ColumnTransformer(transformers=[('numerical',\n",
       "                                                  Pipeline(steps=[('imputerN',\n",
       "                                                                   SimpleImputer(strategy='median')),\n",
       "                                                                  ('scaler',\n",
       "                                                                   StandardScaler())]),\n",
       "                                                  [0, 1, 2, 3, 4, 5, 6])])),\n",
       "                ('est', KNeighborsRegressor())])"
      ]
     },
     "execution_count": 64,
     "metadata": {},
     "output_type": "execute_result"
    }
   ],
   "source": [
    "from sklearn import set_config\n",
    "set_config(display='diagram')\n",
    "#fit data\n",
    "pipelinemodel.fit(X_train, y_train)"
   ]
  },
  {
   "cell_type": "markdown",
   "id": "c683c477",
   "metadata": {},
   "source": [
    "## Model Evaluation"
   ]
  },
  {
   "cell_type": "code",
   "execution_count": 65,
   "id": "f53c4787",
   "metadata": {},
   "outputs": [
    {
     "data": {
      "text/plain": [
       "0.7505615146661546"
      ]
     },
     "execution_count": 65,
     "metadata": {},
     "output_type": "execute_result"
    },
    {
     "data": {
      "text/plain": [
       "0.7505615146661546"
      ]
     },
     "execution_count": 65,
     "metadata": {},
     "output_type": "execute_result"
    }
   ],
   "source": [
    "pipelinemodel.score(X_train,y_train) "
   ]
  },
  {
   "cell_type": "code",
   "execution_count": 66,
   "id": "efd43e0e",
   "metadata": {},
   "outputs": [
    {
     "data": {
      "text/plain": [
       "0.6386808636174764"
      ]
     },
     "execution_count": 66,
     "metadata": {},
     "output_type": "execute_result"
    },
    {
     "data": {
      "text/plain": [
       "0.6386808636174764"
      ]
     },
     "execution_count": 66,
     "metadata": {},
     "output_type": "execute_result"
    }
   ],
   "source": [
    "pipelinemodel.score(X_test,y_test) "
   ]
  },
  {
   "cell_type": "code",
   "execution_count": 67,
   "id": "75ee6e1d",
   "metadata": {},
   "outputs": [],
   "source": [
    "y2_pred = pipelinemodel.predict(X_test)"
   ]
  },
  {
   "cell_type": "code",
   "execution_count": 68,
   "id": "0baf7aeb",
   "metadata": {},
   "outputs": [
    {
     "name": "stdout",
     "output_type": "stream",
     "text": [
      "r2: 0.6386808636174764\n",
      "r2: 0.6386808636174764\n"
     ]
    }
   ],
   "source": [
    "from sklearn.metrics import r2_score\n",
    "lin_r2 = r2_score(y_test, y2_pred)\n",
    "print(\"r2: {}\".format(lin_r2))"
   ]
  },
  {
   "cell_type": "code",
   "execution_count": 69,
   "id": "39ff1bc0",
   "metadata": {},
   "outputs": [
    {
     "name": "stdout",
     "output_type": "stream",
     "text": [
      "mse: 0.6088334829774628\n",
      "mse: 0.6088334829774628\n"
     ]
    }
   ],
   "source": [
    "from sklearn.metrics import mean_squared_error\n",
    "\n",
    "lin_mse = mean_squared_error(y2_pred, y_test)\n",
    "lin_mse = np.sqrt(lin_mse)\n",
    "print(\"mse: {}\".format(lin_mse))"
   ]
  },
  {
   "cell_type": "code",
   "execution_count": 70,
   "id": "aeae79cb",
   "metadata": {},
   "outputs": [
    {
     "data": {
      "text/html": [
       "<div>\n",
       "<style scoped>\n",
       "    .dataframe tbody tr th:only-of-type {\n",
       "        vertical-align: middle;\n",
       "    }\n",
       "\n",
       "    .dataframe tbody tr th {\n",
       "        vertical-align: top;\n",
       "    }\n",
       "\n",
       "    .dataframe thead th {\n",
       "        text-align: right;\n",
       "    }\n",
       "</style>\n",
       "<table border=\"1\" class=\"dataframe\">\n",
       "  <thead>\n",
       "    <tr style=\"text-align: right;\">\n",
       "      <th></th>\n",
       "      <th>Actual</th>\n",
       "      <th>Predicted</th>\n",
       "    </tr>\n",
       "  </thead>\n",
       "  <tbody>\n",
       "    <tr>\n",
       "      <th>2239</th>\n",
       "      <td>1.214513</td>\n",
       "      <td>1.390038</td>\n",
       "    </tr>\n",
       "    <tr>\n",
       "      <th>437</th>\n",
       "      <td>-0.320636</td>\n",
       "      <td>-0.400145</td>\n",
       "    </tr>\n",
       "    <tr>\n",
       "      <th>1277</th>\n",
       "      <td>-0.147313</td>\n",
       "      <td>-0.040843</td>\n",
       "    </tr>\n",
       "    <tr>\n",
       "      <th>824</th>\n",
       "      <td>-0.726433</td>\n",
       "      <td>-0.480203</td>\n",
       "    </tr>\n",
       "    <tr>\n",
       "      <th>1745</th>\n",
       "      <td>2.072877</td>\n",
       "      <td>1.092912</td>\n",
       "    </tr>\n",
       "    <tr>\n",
       "      <th>687</th>\n",
       "      <td>-0.956155</td>\n",
       "      <td>-0.936621</td>\n",
       "    </tr>\n",
       "    <tr>\n",
       "      <th>1723</th>\n",
       "      <td>0.518469</td>\n",
       "      <td>0.460695</td>\n",
       "    </tr>\n",
       "    <tr>\n",
       "      <th>1476</th>\n",
       "      <td>-0.367406</td>\n",
       "      <td>-0.262586</td>\n",
       "    </tr>\n",
       "    <tr>\n",
       "      <th>1235</th>\n",
       "      <td>-0.019384</td>\n",
       "      <td>0.282419</td>\n",
       "    </tr>\n",
       "    <tr>\n",
       "      <th>1467</th>\n",
       "      <td>1.023308</td>\n",
       "      <td>1.406270</td>\n",
       "    </tr>\n",
       "  </tbody>\n",
       "</table>\n",
       "</div>"
      ],
      "text/plain": [
       "        Actual  Predicted\n",
       "2239  1.214513   1.390038\n",
       "437  -0.320636  -0.400145\n",
       "1277 -0.147313  -0.040843\n",
       "824  -0.726433  -0.480203\n",
       "1745  2.072877   1.092912\n",
       "687  -0.956155  -0.936621\n",
       "1723  0.518469   0.460695\n",
       "1476 -0.367406  -0.262586\n",
       "1235 -0.019384   0.282419\n",
       "1467  1.023308   1.406270"
      ]
     },
     "execution_count": 70,
     "metadata": {},
     "output_type": "execute_result"
    },
    {
     "data": {
      "text/html": [
       "<div>\n",
       "<style scoped>\n",
       "    .dataframe tbody tr th:only-of-type {\n",
       "        vertical-align: middle;\n",
       "    }\n",
       "\n",
       "    .dataframe tbody tr th {\n",
       "        vertical-align: top;\n",
       "    }\n",
       "\n",
       "    .dataframe thead th {\n",
       "        text-align: right;\n",
       "    }\n",
       "</style>\n",
       "<table border=\"1\" class=\"dataframe\">\n",
       "  <thead>\n",
       "    <tr style=\"text-align: right;\">\n",
       "      <th></th>\n",
       "      <th>Actual</th>\n",
       "      <th>Predicted</th>\n",
       "    </tr>\n",
       "  </thead>\n",
       "  <tbody>\n",
       "    <tr>\n",
       "      <th>2239</th>\n",
       "      <td>1.214513</td>\n",
       "      <td>1.390038</td>\n",
       "    </tr>\n",
       "    <tr>\n",
       "      <th>437</th>\n",
       "      <td>-0.320636</td>\n",
       "      <td>-0.400145</td>\n",
       "    </tr>\n",
       "    <tr>\n",
       "      <th>1277</th>\n",
       "      <td>-0.147313</td>\n",
       "      <td>-0.040843</td>\n",
       "    </tr>\n",
       "    <tr>\n",
       "      <th>824</th>\n",
       "      <td>-0.726433</td>\n",
       "      <td>-0.480203</td>\n",
       "    </tr>\n",
       "    <tr>\n",
       "      <th>1745</th>\n",
       "      <td>2.072877</td>\n",
       "      <td>1.092912</td>\n",
       "    </tr>\n",
       "    <tr>\n",
       "      <th>687</th>\n",
       "      <td>-0.956155</td>\n",
       "      <td>-0.936621</td>\n",
       "    </tr>\n",
       "    <tr>\n",
       "      <th>1723</th>\n",
       "      <td>0.518469</td>\n",
       "      <td>0.460695</td>\n",
       "    </tr>\n",
       "    <tr>\n",
       "      <th>1476</th>\n",
       "      <td>-0.367406</td>\n",
       "      <td>-0.262586</td>\n",
       "    </tr>\n",
       "    <tr>\n",
       "      <th>1235</th>\n",
       "      <td>-0.019384</td>\n",
       "      <td>0.282419</td>\n",
       "    </tr>\n",
       "    <tr>\n",
       "      <th>1467</th>\n",
       "      <td>1.023308</td>\n",
       "      <td>1.406270</td>\n",
       "    </tr>\n",
       "  </tbody>\n",
       "</table>\n",
       "</div>"
      ],
      "text/plain": [
       "        Actual  Predicted\n",
       "2239  1.214513   1.390038\n",
       "437  -0.320636  -0.400145\n",
       "1277 -0.147313  -0.040843\n",
       "824  -0.726433  -0.480203\n",
       "1745  2.072877   1.092912\n",
       "687  -0.956155  -0.936621\n",
       "1723  0.518469   0.460695\n",
       "1476 -0.367406  -0.262586\n",
       "1235 -0.019384   0.282419\n",
       "1467  1.023308   1.406270"
      ]
     },
     "execution_count": 70,
     "metadata": {},
     "output_type": "execute_result"
    }
   ],
   "source": [
    "result = pd.DataFrame({'Actual':y_test,'Predicted':y2_pred})\n",
    "result.head(10)"
   ]
  },
  {
   "cell_type": "code",
   "execution_count": 71,
   "id": "34391572",
   "metadata": {},
   "outputs": [],
   "source": [
    "import pickle\n",
    "pickle.dump(pipelinemodel, open(\"model.pickle\", \"wb\"))"
   ]
  },
  {
   "cell_type": "code",
   "execution_count": 72,
   "id": "3f00942c",
   "metadata": {},
   "outputs": [
    {
     "data": {
      "text/html": [
       "<style>#sk-8e4a441b-104e-4d9b-b624-073112a4d8e2 {color: black;background-color: white;}#sk-8e4a441b-104e-4d9b-b624-073112a4d8e2 pre{padding: 0;}#sk-8e4a441b-104e-4d9b-b624-073112a4d8e2 div.sk-toggleable {background-color: white;}#sk-8e4a441b-104e-4d9b-b624-073112a4d8e2 label.sk-toggleable__label {cursor: pointer;display: block;width: 100%;margin-bottom: 0;padding: 0.2em 0.3em;box-sizing: border-box;text-align: center;}#sk-8e4a441b-104e-4d9b-b624-073112a4d8e2 div.sk-toggleable__content {max-height: 0;max-width: 0;overflow: hidden;text-align: left;background-color: #f0f8ff;}#sk-8e4a441b-104e-4d9b-b624-073112a4d8e2 div.sk-toggleable__content pre {margin: 0.2em;color: black;border-radius: 0.25em;background-color: #f0f8ff;}#sk-8e4a441b-104e-4d9b-b624-073112a4d8e2 input.sk-toggleable__control:checked~div.sk-toggleable__content {max-height: 200px;max-width: 100%;overflow: auto;}#sk-8e4a441b-104e-4d9b-b624-073112a4d8e2 div.sk-estimator input.sk-toggleable__control:checked~label.sk-toggleable__label {background-color: #d4ebff;}#sk-8e4a441b-104e-4d9b-b624-073112a4d8e2 div.sk-label input.sk-toggleable__control:checked~label.sk-toggleable__label {background-color: #d4ebff;}#sk-8e4a441b-104e-4d9b-b624-073112a4d8e2 input.sk-hidden--visually {border: 0;clip: rect(1px 1px 1px 1px);clip: rect(1px, 1px, 1px, 1px);height: 1px;margin: -1px;overflow: hidden;padding: 0;position: absolute;width: 1px;}#sk-8e4a441b-104e-4d9b-b624-073112a4d8e2 div.sk-estimator {font-family: monospace;background-color: #f0f8ff;margin: 0.25em 0.25em;border: 1px dotted black;border-radius: 0.25em;box-sizing: border-box;}#sk-8e4a441b-104e-4d9b-b624-073112a4d8e2 div.sk-estimator:hover {background-color: #d4ebff;}#sk-8e4a441b-104e-4d9b-b624-073112a4d8e2 div.sk-parallel-item::after {content: \"\";width: 100%;border-bottom: 1px solid gray;flex-grow: 1;}#sk-8e4a441b-104e-4d9b-b624-073112a4d8e2 div.sk-label:hover label.sk-toggleable__label {background-color: #d4ebff;}#sk-8e4a441b-104e-4d9b-b624-073112a4d8e2 div.sk-serial::before {content: \"\";position: absolute;border-left: 1px solid gray;box-sizing: border-box;top: 2em;bottom: 0;left: 50%;}#sk-8e4a441b-104e-4d9b-b624-073112a4d8e2 div.sk-serial {display: flex;flex-direction: column;align-items: center;background-color: white;}#sk-8e4a441b-104e-4d9b-b624-073112a4d8e2 div.sk-item {z-index: 1;}#sk-8e4a441b-104e-4d9b-b624-073112a4d8e2 div.sk-parallel {display: flex;align-items: stretch;justify-content: center;background-color: white;}#sk-8e4a441b-104e-4d9b-b624-073112a4d8e2 div.sk-parallel-item {display: flex;flex-direction: column;position: relative;background-color: white;}#sk-8e4a441b-104e-4d9b-b624-073112a4d8e2 div.sk-parallel-item:first-child::after {align-self: flex-end;width: 50%;}#sk-8e4a441b-104e-4d9b-b624-073112a4d8e2 div.sk-parallel-item:last-child::after {align-self: flex-start;width: 50%;}#sk-8e4a441b-104e-4d9b-b624-073112a4d8e2 div.sk-parallel-item:only-child::after {width: 0;}#sk-8e4a441b-104e-4d9b-b624-073112a4d8e2 div.sk-dashed-wrapped {border: 1px dashed gray;margin: 0.2em;box-sizing: border-box;padding-bottom: 0.1em;background-color: white;position: relative;}#sk-8e4a441b-104e-4d9b-b624-073112a4d8e2 div.sk-label label {font-family: monospace;font-weight: bold;background-color: white;display: inline-block;line-height: 1.2em;}#sk-8e4a441b-104e-4d9b-b624-073112a4d8e2 div.sk-label-container {position: relative;z-index: 2;text-align: center;}#sk-8e4a441b-104e-4d9b-b624-073112a4d8e2 div.sk-container {display: inline-block;position: relative;}</style><div id=\"sk-8e4a441b-104e-4d9b-b624-073112a4d8e2\" class\"sk-top-container\"><div class=\"sk-container\"><div class=\"sk-item sk-dashed-wrapped\"><div class=\"sk-label-container\"><div class=\"sk-label sk-toggleable\"><input class=\"sk-toggleable__control sk-hidden--visually\" id=\"713ef739-cb44-4865-930e-2e9ffbbd0f94\" type=\"checkbox\" ><label class=\"sk-toggleable__label\" for=\"713ef739-cb44-4865-930e-2e9ffbbd0f94\">Pipeline</label><div class=\"sk-toggleable__content\"><pre>Pipeline(steps=[('preprocessor',\n",
       "                 ColumnTransformer(transformers=[('numerical',\n",
       "                                                  Pipeline(steps=[('imputerN',\n",
       "                                                                   SimpleImputer(strategy='median')),\n",
       "                                                                  ('scaler',\n",
       "                                                                   StandardScaler())]),\n",
       "                                                  [0, 1, 2, 3, 4, 5, 6])])),\n",
       "                ('est', KNeighborsRegressor())])</pre></div></div></div><div class=\"sk-serial\"><div class=\"sk-item sk-dashed-wrapped\"><div class=\"sk-label-container\"><div class=\"sk-label sk-toggleable\"><input class=\"sk-toggleable__control sk-hidden--visually\" id=\"c7f349e0-1ded-411b-ad7a-b88e197152ee\" type=\"checkbox\" ><label class=\"sk-toggleable__label\" for=\"c7f349e0-1ded-411b-ad7a-b88e197152ee\">preprocessor: ColumnTransformer</label><div class=\"sk-toggleable__content\"><pre>ColumnTransformer(transformers=[('numerical',\n",
       "                                 Pipeline(steps=[('imputerN',\n",
       "                                                  SimpleImputer(strategy='median')),\n",
       "                                                 ('scaler', StandardScaler())]),\n",
       "                                 [0, 1, 2, 3, 4, 5, 6])])</pre></div></div></div><div class=\"sk-parallel\"><div class=\"sk-parallel-item\"><div class=\"sk-item\"><div class=\"sk-label-container\"><div class=\"sk-label sk-toggleable\"><input class=\"sk-toggleable__control sk-hidden--visually\" id=\"139e0bc5-ca59-4035-be61-7cc07a97b763\" type=\"checkbox\" ><label class=\"sk-toggleable__label\" for=\"139e0bc5-ca59-4035-be61-7cc07a97b763\">numerical</label><div class=\"sk-toggleable__content\"><pre>[0, 1, 2, 3, 4, 5, 6]</pre></div></div></div><div class=\"sk-serial\"><div class=\"sk-item\"><div class=\"sk-serial\"><div class=\"sk-item\"><div class=\"sk-estimator sk-toggleable\"><input class=\"sk-toggleable__control sk-hidden--visually\" id=\"65a45a02-b458-4286-88db-59f6b1df9525\" type=\"checkbox\" ><label class=\"sk-toggleable__label\" for=\"65a45a02-b458-4286-88db-59f6b1df9525\">SimpleImputer</label><div class=\"sk-toggleable__content\"><pre>SimpleImputer(strategy='median')</pre></div></div></div><div class=\"sk-item\"><div class=\"sk-estimator sk-toggleable\"><input class=\"sk-toggleable__control sk-hidden--visually\" id=\"8550504c-c592-4137-96c7-9f3c2f20319f\" type=\"checkbox\" ><label class=\"sk-toggleable__label\" for=\"8550504c-c592-4137-96c7-9f3c2f20319f\">StandardScaler</label><div class=\"sk-toggleable__content\"><pre>StandardScaler()</pre></div></div></div></div></div></div></div></div></div></div><div class=\"sk-item\"><div class=\"sk-estimator sk-toggleable\"><input class=\"sk-toggleable__control sk-hidden--visually\" id=\"68ffd6c6-58a6-4272-8660-235750879e61\" type=\"checkbox\" ><label class=\"sk-toggleable__label\" for=\"68ffd6c6-58a6-4272-8660-235750879e61\">KNeighborsRegressor</label><div class=\"sk-toggleable__content\"><pre>KNeighborsRegressor()</pre></div></div></div></div></div></div></div>"
      ],
      "text/plain": [
       "Pipeline(steps=[('preprocessor',\n",
       "                 ColumnTransformer(transformers=[('numerical',\n",
       "                                                  Pipeline(steps=[('imputerN',\n",
       "                                                                   SimpleImputer(strategy='median')),\n",
       "                                                                  ('scaler',\n",
       "                                                                   StandardScaler())]),\n",
       "                                                  [0, 1, 2, 3, 4, 5, 6])])),\n",
       "                ('est', KNeighborsRegressor())])"
      ]
     },
     "execution_count": 72,
     "metadata": {},
     "output_type": "execute_result"
    },
    {
     "data": {
      "text/html": [
       "<style>#sk-8e4a441b-104e-4d9b-b624-073112a4d8e2 {color: black;background-color: white;}#sk-8e4a441b-104e-4d9b-b624-073112a4d8e2 pre{padding: 0;}#sk-8e4a441b-104e-4d9b-b624-073112a4d8e2 div.sk-toggleable {background-color: white;}#sk-8e4a441b-104e-4d9b-b624-073112a4d8e2 label.sk-toggleable__label {cursor: pointer;display: block;width: 100%;margin-bottom: 0;padding: 0.2em 0.3em;box-sizing: border-box;text-align: center;}#sk-8e4a441b-104e-4d9b-b624-073112a4d8e2 div.sk-toggleable__content {max-height: 0;max-width: 0;overflow: hidden;text-align: left;background-color: #f0f8ff;}#sk-8e4a441b-104e-4d9b-b624-073112a4d8e2 div.sk-toggleable__content pre {margin: 0.2em;color: black;border-radius: 0.25em;background-color: #f0f8ff;}#sk-8e4a441b-104e-4d9b-b624-073112a4d8e2 input.sk-toggleable__control:checked~div.sk-toggleable__content {max-height: 200px;max-width: 100%;overflow: auto;}#sk-8e4a441b-104e-4d9b-b624-073112a4d8e2 div.sk-estimator input.sk-toggleable__control:checked~label.sk-toggleable__label {background-color: #d4ebff;}#sk-8e4a441b-104e-4d9b-b624-073112a4d8e2 div.sk-label input.sk-toggleable__control:checked~label.sk-toggleable__label {background-color: #d4ebff;}#sk-8e4a441b-104e-4d9b-b624-073112a4d8e2 input.sk-hidden--visually {border: 0;clip: rect(1px 1px 1px 1px);clip: rect(1px, 1px, 1px, 1px);height: 1px;margin: -1px;overflow: hidden;padding: 0;position: absolute;width: 1px;}#sk-8e4a441b-104e-4d9b-b624-073112a4d8e2 div.sk-estimator {font-family: monospace;background-color: #f0f8ff;margin: 0.25em 0.25em;border: 1px dotted black;border-radius: 0.25em;box-sizing: border-box;}#sk-8e4a441b-104e-4d9b-b624-073112a4d8e2 div.sk-estimator:hover {background-color: #d4ebff;}#sk-8e4a441b-104e-4d9b-b624-073112a4d8e2 div.sk-parallel-item::after {content: \"\";width: 100%;border-bottom: 1px solid gray;flex-grow: 1;}#sk-8e4a441b-104e-4d9b-b624-073112a4d8e2 div.sk-label:hover label.sk-toggleable__label {background-color: #d4ebff;}#sk-8e4a441b-104e-4d9b-b624-073112a4d8e2 div.sk-serial::before {content: \"\";position: absolute;border-left: 1px solid gray;box-sizing: border-box;top: 2em;bottom: 0;left: 50%;}#sk-8e4a441b-104e-4d9b-b624-073112a4d8e2 div.sk-serial {display: flex;flex-direction: column;align-items: center;background-color: white;}#sk-8e4a441b-104e-4d9b-b624-073112a4d8e2 div.sk-item {z-index: 1;}#sk-8e4a441b-104e-4d9b-b624-073112a4d8e2 div.sk-parallel {display: flex;align-items: stretch;justify-content: center;background-color: white;}#sk-8e4a441b-104e-4d9b-b624-073112a4d8e2 div.sk-parallel-item {display: flex;flex-direction: column;position: relative;background-color: white;}#sk-8e4a441b-104e-4d9b-b624-073112a4d8e2 div.sk-parallel-item:first-child::after {align-self: flex-end;width: 50%;}#sk-8e4a441b-104e-4d9b-b624-073112a4d8e2 div.sk-parallel-item:last-child::after {align-self: flex-start;width: 50%;}#sk-8e4a441b-104e-4d9b-b624-073112a4d8e2 div.sk-parallel-item:only-child::after {width: 0;}#sk-8e4a441b-104e-4d9b-b624-073112a4d8e2 div.sk-dashed-wrapped {border: 1px dashed gray;margin: 0.2em;box-sizing: border-box;padding-bottom: 0.1em;background-color: white;position: relative;}#sk-8e4a441b-104e-4d9b-b624-073112a4d8e2 div.sk-label label {font-family: monospace;font-weight: bold;background-color: white;display: inline-block;line-height: 1.2em;}#sk-8e4a441b-104e-4d9b-b624-073112a4d8e2 div.sk-label-container {position: relative;z-index: 2;text-align: center;}#sk-8e4a441b-104e-4d9b-b624-073112a4d8e2 div.sk-container {display: inline-block;position: relative;}</style><div id=\"sk-8e4a441b-104e-4d9b-b624-073112a4d8e2\" class\"sk-top-container\"><div class=\"sk-container\"><div class=\"sk-item sk-dashed-wrapped\"><div class=\"sk-label-container\"><div class=\"sk-label sk-toggleable\"><input class=\"sk-toggleable__control sk-hidden--visually\" id=\"713ef739-cb44-4865-930e-2e9ffbbd0f94\" type=\"checkbox\" ><label class=\"sk-toggleable__label\" for=\"713ef739-cb44-4865-930e-2e9ffbbd0f94\">Pipeline</label><div class=\"sk-toggleable__content\"><pre>Pipeline(steps=[('preprocessor',\n",
       "                 ColumnTransformer(transformers=[('numerical',\n",
       "                                                  Pipeline(steps=[('imputerN',\n",
       "                                                                   SimpleImputer(strategy='median')),\n",
       "                                                                  ('scaler',\n",
       "                                                                   StandardScaler())]),\n",
       "                                                  [0, 1, 2, 3, 4, 5, 6])])),\n",
       "                ('est', KNeighborsRegressor())])</pre></div></div></div><div class=\"sk-serial\"><div class=\"sk-item sk-dashed-wrapped\"><div class=\"sk-label-container\"><div class=\"sk-label sk-toggleable\"><input class=\"sk-toggleable__control sk-hidden--visually\" id=\"c7f349e0-1ded-411b-ad7a-b88e197152ee\" type=\"checkbox\" ><label class=\"sk-toggleable__label\" for=\"c7f349e0-1ded-411b-ad7a-b88e197152ee\">preprocessor: ColumnTransformer</label><div class=\"sk-toggleable__content\"><pre>ColumnTransformer(transformers=[('numerical',\n",
       "                                 Pipeline(steps=[('imputerN',\n",
       "                                                  SimpleImputer(strategy='median')),\n",
       "                                                 ('scaler', StandardScaler())]),\n",
       "                                 [0, 1, 2, 3, 4, 5, 6])])</pre></div></div></div><div class=\"sk-parallel\"><div class=\"sk-parallel-item\"><div class=\"sk-item\"><div class=\"sk-label-container\"><div class=\"sk-label sk-toggleable\"><input class=\"sk-toggleable__control sk-hidden--visually\" id=\"139e0bc5-ca59-4035-be61-7cc07a97b763\" type=\"checkbox\" ><label class=\"sk-toggleable__label\" for=\"139e0bc5-ca59-4035-be61-7cc07a97b763\">numerical</label><div class=\"sk-toggleable__content\"><pre>[0, 1, 2, 3, 4, 5, 6]</pre></div></div></div><div class=\"sk-serial\"><div class=\"sk-item\"><div class=\"sk-serial\"><div class=\"sk-item\"><div class=\"sk-estimator sk-toggleable\"><input class=\"sk-toggleable__control sk-hidden--visually\" id=\"65a45a02-b458-4286-88db-59f6b1df9525\" type=\"checkbox\" ><label class=\"sk-toggleable__label\" for=\"65a45a02-b458-4286-88db-59f6b1df9525\">SimpleImputer</label><div class=\"sk-toggleable__content\"><pre>SimpleImputer(strategy='median')</pre></div></div></div><div class=\"sk-item\"><div class=\"sk-estimator sk-toggleable\"><input class=\"sk-toggleable__control sk-hidden--visually\" id=\"8550504c-c592-4137-96c7-9f3c2f20319f\" type=\"checkbox\" ><label class=\"sk-toggleable__label\" for=\"8550504c-c592-4137-96c7-9f3c2f20319f\">StandardScaler</label><div class=\"sk-toggleable__content\"><pre>StandardScaler()</pre></div></div></div></div></div></div></div></div></div></div><div class=\"sk-item\"><div class=\"sk-estimator sk-toggleable\"><input class=\"sk-toggleable__control sk-hidden--visually\" id=\"68ffd6c6-58a6-4272-8660-235750879e61\" type=\"checkbox\" ><label class=\"sk-toggleable__label\" for=\"68ffd6c6-58a6-4272-8660-235750879e61\">KNeighborsRegressor</label><div class=\"sk-toggleable__content\"><pre>KNeighborsRegressor()</pre></div></div></div></div></div></div></div>"
      ],
      "text/plain": [
       "Pipeline(steps=[('preprocessor',\n",
       "                 ColumnTransformer(transformers=[('numerical',\n",
       "                                                  Pipeline(steps=[('imputerN',\n",
       "                                                                   SimpleImputer(strategy='median')),\n",
       "                                                                  ('scaler',\n",
       "                                                                   StandardScaler())]),\n",
       "                                                  [0, 1, 2, 3, 4, 5, 6])])),\n",
       "                ('est', KNeighborsRegressor())])"
      ]
     },
     "execution_count": 72,
     "metadata": {},
     "output_type": "execute_result"
    }
   ],
   "source": [
    "model = pickle.load(open(\"model.pickle\",\"rb\"))\n",
    "model"
   ]
  }
 ],
 "metadata": {
  "kernelspec": {
   "display_name": "Python 3 (ipykernel)",
   "language": "python",
   "name": "python3"
  },
  "language_info": {
   "codemirror_mode": {
    "name": "ipython",
    "version": 3
   },
   "file_extension": ".py",
   "mimetype": "text/x-python",
   "name": "python",
   "nbconvert_exporter": "python",
   "pygments_lexer": "ipython3",
   "version": "3.9.7"
  }
 },
 "nbformat": 4,
 "nbformat_minor": 5
}
